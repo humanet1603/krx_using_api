{
  "nbformat": 4,
  "nbformat_minor": 0,
  "metadata": {
    "colab": {
      "private_outputs": true,
      "provenance": [],
      "mount_file_id": "1r1h1b74OPxGpS-Vj445JZzodijH_xaMX",
      "authorship_tag": "ABX9TyNOs1ycs9HsHyx+u8M2LWQD",
      "include_colab_link": true
    },
    "kernelspec": {
      "name": "python3",
      "display_name": "Python 3"
    },
    "language_info": {
      "name": "python"
    }
  },
  "cells": [
    {
      "cell_type": "markdown",
      "metadata": {
        "id": "view-in-github",
        "colab_type": "text"
      },
      "source": [
        "<a href=\"https://colab.research.google.com/github/humanet1603/krx_using_api/blob/main/krx_%EC%88%98%EC%9D%B5%EB%A5%A0.ipynb\" target=\"_parent\"><img src=\"https://colab.research.google.com/assets/colab-badge.svg\" alt=\"Open In Colab\"/></a>"
      ]
    },
    {
      "cell_type": "code",
      "source": [
        "!pip install pykrx\n",
        "!pip install pandas\n",
        "!pip install matplotlib\n",
        "!pip install numpy\n",
        "!pip install plotly\n"
      ],
      "metadata": {
        "id": "LPmNAPfPH8AF"
      },
      "execution_count": null,
      "outputs": []
    },
    {
      "cell_type": "code",
      "source": [],
      "metadata": {
        "id": "DIQ9FnpSIvKN"
      },
      "execution_count": null,
      "outputs": []
    },
    {
      "cell_type": "code",
      "execution_count": null,
      "metadata": {
        "id": "Snb20nT-HlEw"
      },
      "outputs": [],
      "source": [
        "from pykrx import stock\n",
        "\n",
        "def get_semiconductor_companies():\n",
        "    # 한국거래소 업종별 코드 (반도체 업종에 해당하는 코드)\n",
        "    sector_code = \"G25\"  # 반도체 및 반도체 장비\n",
        "\n",
        "    # 업종별 종목 리스트 가져오기\n",
        "    tickers = stock.get_index_portfolio_deposit_file(sector_code)\n",
        "\n",
        "    # 종목명 매핑\n",
        "    ticker_info = {}\n",
        "    for ticker in tickers:\n",
        "        name = stock.get_market_ticker_name(ticker)\n",
        "        ticker_info[ticker] = name\n",
        "\n",
        "    return ticker_info\n",
        "\n",
        "# 반도체 및 반도체 장비 기업 목록 출력\n",
        "semiconductor_companies = get_semiconductor_companies()\n",
        "for ticker, name in semiconductor_companies.items():\n",
        "    print(f\"{ticker}: {name}\")\n"
      ]
    },
    {
      "cell_type": "markdown",
      "source": [
        "# 한국증시의 업종코드와 업종이름\n"
      ],
      "metadata": {
        "id": "JGHvx0AMKyyr"
      }
    },
    {
      "cell_type": "code",
      "source": [
        "from pykrx import stock\n",
        "\n",
        "def get_industry_codes_and_names():\n",
        "    # 코스피 및 코스닥 지수 코드 목록 가져오기\n",
        "\n",
        "\n",
        "    kospi_codes = stock.get_index_ticker_list(market=\"KOSPI\")\n",
        "    kosdaq_codes = stock.get_index_ticker_list(market=\"KOSDAQ\")\n",
        "\n",
        "    # 지수 코드와 이름을 딕셔너리로 저장\n",
        "    industry_codes_and_names = {}\n",
        "\n",
        "    # 코스피 지수 코드 및 이름 매핑\n",
        "    for code in kospi_codes:\n",
        "        industry_codes_and_names[code] = stock.get_index_ticker_name(code)\n",
        "\n",
        "    # 코스닥 지수 코드 및 이름 매핑\n",
        "    for code in kosdaq_codes:\n",
        "        industry_codes_and_names[code] = stock.get_index_ticker_name(code)\n",
        "\n",
        "    return industry_codes_and_names\n",
        "\n",
        "# 실행 예제\n",
        "if __name__ == \"__main__\":\n",
        "    industry_data = get_industry_codes_and_names()\n",
        "    for code, name in industry_data.items():\n",
        "        print(f\"{code}: {name}\")\n"
      ],
      "metadata": {
        "id": "8l5FE1LSKUk8"
      },
      "execution_count": null,
      "outputs": []
    },
    {
      "cell_type": "code",
      "source": [
        "import csv\n",
        "\n",
        "def save_industry_data_to_csv(filename=\"industry_codes_and_names.csv\"):\n",
        "    industry_data = get_industry_codes_and_names()\n",
        "    with open(filename, mode='w', newline='', encoding='utf-8') as file:\n",
        "        writer = csv.writer(file)\n",
        "        writer.writerow([\"Code\", \"Name\"])\n",
        "        for code, name in industry_data.items():\n",
        "            writer.writerow([code, name])\n",
        "\n",
        "if __name__ == \"__main__\":\n",
        "    save_industry_data_to_csv()\n"
      ],
      "metadata": {
        "id": "hDqHPLX4Kr9D"
      },
      "execution_count": null,
      "outputs": []
    },
    {
      "cell_type": "code",
      "source": [
        "!pip install requests beautifulsoup4\n"
      ],
      "metadata": {
        "id": "kHlrMk-LNwAf"
      },
      "execution_count": null,
      "outputs": []
    },
    {
      "cell_type": "code",
      "source": [
        "import requests\n",
        "from bs4 import BeautifulSoup\n",
        "import csv\n",
        "\n",
        "# 네이버 금융 테마 페이지 URL\n",
        "URL = \"https://finance.naver.com/sise/theme.naver\"\n",
        "\n",
        "def get_theme_codes_and_names():\n",
        "    # 웹 페이지에서 테마 데이터를 스크래핑하기 위한 요청 보내기\n",
        "    response = requests.get(URL)\n",
        "    response.raise_for_status()\n",
        "\n",
        "    # BeautifulSoup을 사용하여 HTML 파싱\n",
        "    soup = BeautifulSoup(response.text, 'html.parser')\n",
        "\n",
        "    # 테마 테이블을 찾고 행 데이터를 추출\n",
        "    theme_table = soup.find(\"table\", {\"class\": \"type_1 theme\"})\n",
        "    rows = theme_table.find_all(\"tr\")[1:]  # 헤더를 제외하고 모든 행 가져오기\n",
        "\n",
        "    # 테마 코드와 이름을 추출\n",
        "    theme_codes_and_names = {}\n",
        "    for row in rows:\n",
        "        columns = row.find_all(\"td\")\n",
        "        if len(columns) >= 2:\n",
        "            theme_link = columns[0].find(\"a\")\n",
        "            if theme_link:\n",
        "                theme_code = theme_link.get(\"href\").split(\"=\")[-1]\n",
        "                theme_name = theme_link.text.strip()\n",
        "                theme_codes_and_names[theme_code] = theme_name\n",
        "\n",
        "    return theme_codes_and_names\n",
        "\n",
        "# 테마 데이터 CSV 파일로 저장하는 함수\n",
        "def save_theme_data_to_csv(filename=\"theme_codes_and_names.csv\"):\n",
        "    theme_data = get_theme_codes_and_names()\n",
        "    with open(filename, mode='w', newline='', encoding='utf-8') as file:\n",
        "        writer = csv.writer(file)\n",
        "        writer.writerow([\"Code\", \"Name\"])\n",
        "        for code, name in theme_data.items():\n",
        "            writer.writerow([code, name])\n",
        "\n",
        "# 실행 예제\n",
        "if __name__ == \"__main__\":\n",
        "    theme_data = get_theme_codes_and_names()\n",
        "    for code, name in theme_data.items():\n",
        "        print(f\"{code}: {name}\")\n",
        "    save_theme_data_to_csv()\n"
      ],
      "metadata": {
        "id": "tXMS5F5ENqwP"
      },
      "execution_count": null,
      "outputs": []
    }
  ]
}