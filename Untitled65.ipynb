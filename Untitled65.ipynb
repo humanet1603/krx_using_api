{
  "nbformat": 4,
  "nbformat_minor": 0,
  "metadata": {
    "colab": {
      "provenance": [],
      "mount_file_id": "1vHBSyCmF94R_WeKT1c2wA_BIXT734p9V",
      "authorship_tag": "ABX9TyM6Yd+FArZAyWbyVyL6btUC",
      "include_colab_link": true
    },
    "kernelspec": {
      "name": "python3",
      "display_name": "Python 3"
    },
    "language_info": {
      "name": "python"
    }
  },
  "cells": [
    {
      "cell_type": "markdown",
      "metadata": {
        "id": "view-in-github",
        "colab_type": "text"
      },
      "source": [
        "<a href=\"https://colab.research.google.com/github/humanet1603/krx_using_api/blob/main/Untitled65.ipynb\" target=\"_parent\"><img src=\"https://colab.research.google.com/assets/colab-badge.svg\" alt=\"Open In Colab\"/></a>"
      ]
    },
    {
      "cell_type": "markdown",
      "source": [
        "/content/drive/MyDrive/0605/industry_sectors_utf8.csv\n",
        "/content/drive/MyDrive/0605/sector_gain.xlsx"
      ],
      "metadata": {
        "id": "j0lyEwIeS3CK"
      }
    },
    {
      "cell_type": "code",
      "source": [
        "! pip install xlsxwriter"
      ],
      "metadata": {
        "colab": {
          "base_uri": "https://localhost:8080/"
        },
        "id": "yQhVHuWLndtY",
        "outputId": "e71e8fbd-eb97-4f15-f660-6a2a319cab17"
      },
      "execution_count": 5,
      "outputs": [
        {
          "output_type": "stream",
          "name": "stdout",
          "text": [
            "Requirement already satisfied: xlsxwriter in /usr/local/lib/python3.10/dist-packages (3.2.0)\n"
          ]
        }
      ]
    },
    {
      "cell_type": "code",
      "source": [
        "import pandas as pd\n",
        "import xlsxwriter\n",
        "\n",
        "\n",
        "# Load the CSV file from the specified path\n",
        "csv_path = '/content/drive/MyDrive/0605/industry_sectors_utf8.csv'\n",
        "sector_df = pd.read_csv(csv_path, encoding='utf-8-sig')\n",
        "\n",
        "# Convert percentage strings to numeric values for analysis\n",
        "for column in sector_df.columns[2:]:\n",
        "    sector_df[column] = sector_df[column].str.rstrip('%').astype('float')\n",
        "\n",
        "# Drop the 'Sector_kor' column\n",
        "sector_df.drop(columns=['Sector_kor'], inplace=True)\n",
        "\n",
        "# Create an Excel writer with only the 'Sector Gains' sheet and in-cell bar charts\n",
        "excel_path = '/content/drive/MyDrive/0605/sector_gain.xlsx'\n",
        "with pd.ExcelWriter(excel_path, engine='xlsxwriter') as writer:\n",
        "    sector_df.to_excel(writer, sheet_name='Sector Gains', index=False)\n",
        "\n",
        "    # Create a worksheet object\n",
        "    worksheet = writer.sheets['Sector Gains']\n",
        "\n",
        "    # Adding in-cell bar charts if applicable (only for numerical columns)\n",
        "    column_index = 1\n",
        "    for column in sector_df.columns[1:]:\n",
        "        # Get the number of rows\n",
        "        num_rows = len(sector_df)\n",
        "\n",
        "        # Add conditional formatting for positive values\n",
        "        worksheet.conditional_format(1, column_index, num_rows, column_index,\n",
        "                                     {'type': 'data_bar',\n",
        "                                      'bar_color': '#63C384',  # Green color for positive values\n",
        "                                      'bar_direction': 'left',\n",
        "                                      'min_value': 0,\n",
        "                                      'max_value': sector_df[column].max()})\n",
        "\n",
        "        # Add conditional formatting for negative values\n",
        "        worksheet.conditional_format(1, column_index, num_rows, column_index,\n",
        "                                     {'type': 'data_bar',\n",
        "                                      'bar_color': '#FFCCCB',  # Pink color for negative values\n",
        "                                      'bar_direction': 'right',\n",
        "                                      'min_value': sector_df[column].min(),\n",
        "                                      'max_value': 0})\n",
        "\n",
        "        column_index += 1\n",
        "\n",
        "excel_path\n"
      ],
      "metadata": {
        "colab": {
          "base_uri": "https://localhost:8080/",
          "height": 35
        },
        "id": "qYNgxuNknJGB",
        "outputId": "408bcb5c-8345-494d-ba54-7990383fab4b"
      },
      "execution_count": 6,
      "outputs": [
        {
          "output_type": "execute_result",
          "data": {
            "text/plain": [
              "'/content/drive/MyDrive/0605/sector_gain.xlsx'"
            ],
            "application/vnd.google.colaboratory.intrinsic+json": {
              "type": "string"
            }
          },
          "metadata": {},
          "execution_count": 6
        }
      ]
    }
  ]
}