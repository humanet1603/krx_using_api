{
  "nbformat": 4,
  "nbformat_minor": 0,
  "metadata": {
    "colab": {
      "private_outputs": true,
      "provenance": [],
      "mount_file_id": "1734Av28RF0aAt9yi8oHae-vTShnJSTaZ",
      "authorship_tag": "ABX9TyN5Tdf/2nHZfQCSQ3c6DKpj",
      "include_colab_link": true
    },
    "kernelspec": {
      "name": "python3",
      "display_name": "Python 3"
    },
    "language_info": {
      "name": "python"
    }
  },
  "cells": [
    {
      "cell_type": "markdown",
      "metadata": {
        "id": "view-in-github",
        "colab_type": "text"
      },
      "source": [
        "<a href=\"https://colab.research.google.com/github/humanet1603/krx_using_api/blob/main/%EB%89%B4%EC%8A%A4%EB%AA%A9%EB%A1%9D_%EC%A0%95%EB%A6%AC.ipynb\" target=\"_parent\"><img src=\"https://colab.research.google.com/assets/colab-badge.svg\" alt=\"Open In Colab\"/></a>"
      ]
    },
    {
      "cell_type": "code",
      "source": [
        "!pip install"
      ],
      "metadata": {
        "id": "PqmejEz-RlN4"
      },
      "execution_count": null,
      "outputs": []
    },
    {
      "cell_type": "code",
      "execution_count": null,
      "metadata": {
        "id": "sxDbvjd8RJ_a"
      },
      "outputs": [],
      "source": [
        "!pip install chardet pandas openpyxl\n",
        "import chardet\n",
        "import pandas as pd\n",
        "import re\n",
        "with open('/content/반도체와 장비.csv', 'rb') as f:\n",
        "    encoding = chardet.detect(f.read())['encoding']\n",
        "\n",
        "with open('/content/반도체와 장비.csv', 'rb') as f:\n",
        "    # ...\n",
        "        # ...\n",
        "\n",
        "# Read the file line by line and manually parse each line\n",
        "\n",
        "\n",
        "        try:\n",
        "            # Decode each line using cp949 encoding\n",
        "            decoded_line = line.decode('cp949')\n",
        "            lines.append(decoded_line)\n",
        "        except UnicodeDecodeError as e:\n",
        "            # Handle the error and decode using latin1 encoding\n",
        "            decoded_line = line.decode('latin1')\n",
        "            lines.append(decoded_line)\n",
        "\n",
        "# Manually parse each line to extract relevant columns\n",
        "parsed_lines = []\n",
        "for line in lines:\n",
        "    # Use regular expressions to extract date, time, title, companies, and source\n",
        "    match = re.match(r'(\\d{4}/\\d{2}/\\d{2}),(\\d{2}:\\d{2}:\\d{2}),\"([^\"]+)\",\\'([^,]+),([^,]+)', line)\n",
        "    if match:\n",
        "        date, time, title, companies, source = match.groups()\n",
        "        parsed_lines.append([date, time, title, companies, source])\n",
        "\n",
        "# Create a DataFrame from the parsed lines\n",
        "parsed_df = pd.DataFrame(parsed_lines, columns=['Date', 'Time', 'Title', 'Companies', 'Source'])\n",
        "\n",
        "# Convert 'Date' to datetime format and sort by date\n",
        "parsed_df['Date'] = pd.to_datetime(parsed_df['Date'], errors='coerce')\n",
        "parsed_df = parsed_df.sort_values(by='Date')\n",
        "\n",
        "# Display the cleaned and organized dataframe\n",
        "tools.display_dataframe_to_user(name=\"Manually Parsed Semiconductor and Equipment News\", dataframe=parsed_df)\n",
        "parsed_df.head()\n"
      ]
    },
    {
      "cell_type": "code",
      "source": [
        "!pip install chardet pandas openpyxl\n",
        "\n",
        "\n",
        "import pandas as pd\n",
        "from io import StringIO\n",
        "\n",
        "# 파일 경로 설정\n",
        "input_file_path = '/content/반도체와 장비.csv'\n",
        "output_file_path = '/content/반도체와_장비_처리된_utf8.csv'\n",
        "\n",
        "# 파일을 읽기\n",
        "with open(input_file_path, 'r', encoding='cp949', errors='replace') as file:\n",
        "    lines = file.readlines()\n",
        "\n",
        "# 데이터를 결합하여 문자열로 만들기\n",
        "data_str = ''.join(lines)\n",
        "\n",
        "# 데이터를 데이터프레임으로 읽기\n",
        "data = pd.read_csv(StringIO(data_str), sep=',', on_bad_lines='skip')\n",
        "\n",
        "# 날짜 형식을 datetime 형식으로 변환\n",
        "data['Date'] = pd.to_datetime(data['Date'], errors='coerce')\n",
        "\n",
        "# 'headline' 열의 공백 제거 및 불필요한 문자 제거\n",
        "data['headline'] = data['headline'].str.strip()\n",
        "\n",
        "# 'related_company' 열에서 불필요한 따옴표 제거\n",
        "data['related_company'] = data['related_company'].str.replace(\"'\", \"\").str.strip()\n",
        "\n",
        "# 결측값 처리: 결측값이 있는 행 제거\n",
        "data = data.dropna(subset=['Date', 'Time', 'headline', 'related_company', 'source'])\n",
        "\n",
        "# 열 순서 재정렬\n",
        "data = data[['Date', 'Time', 'headline', 'related_company', 'source']]\n",
        "\n",
        "# 데이터프레임을 새로운 CSV 파일로 저장\n",
        "data.to_csv(output_file_path, index=False, encoding='utf-8-sig')\n",
        "\n",
        "print(f\"Processed data saved to {output_file_path}\")\n"
      ],
      "metadata": {
        "id": "-UpIvJKmT5ah"
      },
      "execution_count": null,
      "outputs": []
    },
    {
      "cell_type": "code",
      "source": [
        "import pandas as pd\n",
        "from io import StringIO\n",
        "\n",
        "# 파일 경로 설정\n",
        "input_file_path = '/content/반도체와 장비.csv'\n",
        "output_file_path = '/content/반도체와_장비_처리된_utf8.csv'\n",
        "\n",
        "# 파일을 읽기\n",
        "with open(input_file_path, 'r', encoding='cp949', errors='replace') as file:\n",
        "    lines = file.readlines()\n",
        "\n",
        "# 데이터를 결합하여 문자열로 만들기\n",
        "data_str = ''.join(lines)\n",
        "\n",
        "# 데이터를 데이터프레임으로 읽기\n",
        "data = pd.read_csv(StringIO(data_str), sep=',', on_bad_lines='skip')\n",
        "\n",
        "# 날짜 형식을 datetime 형식으로 변환\n",
        "data['Date'] = pd.to_datetime(data['Date'], errors='coerce')\n",
        "\n",
        "# 'headline' 열의 공백 제거 및 불필요한 문자 제거\n",
        "data['headline'] = data['headline'].str.strip()\n",
        "\n",
        "# 'related_company' 열에서 'ND'와 'NY' 문자 제거\n",
        "data['related_company'] = data['related_company'].str.replace(\"'\", \"\").str.replace('ND', '').str.replace('NY', '').str.strip()\n",
        "\n",
        "# 결측값 처리: 결측값이 있는 행 제거\n",
        "data = data.dropna(subset=['Date', 'Time', 'headline', 'related_company', 'source'])\n",
        "\n",
        "# 열 순서 재정렬\n",
        "data = data[['Date', 'Time', 'headline', 'related_company', 'source']]\n",
        "\n",
        "# 'headline' 열에 줄바꿈 추가 (예시로 특정 문자열 이후에 줄바꿈을 추가)\n",
        "# 실제로 원하는 위치에 줄바꿈을 추가할 수 있습니다.\n",
        "data['headline'] = data['headline'].str.replace(' ', '\\n', 1)  # 첫 번째 공백을 줄바꿈으로 대체\n",
        "\n",
        "# 데이터프레임을 새로운 CSV 파일로 저장\n",
        "data.to_csv(output_file_path, index=False, encoding='utf-8-sig')\n",
        "\n",
        "print(f\"Processed data saved to {output_file_path}\")\n",
        "\n",
        "# Display the first few rows to ensure everything is correct\n",
        "print(data.head())\n"
      ],
      "metadata": {
        "id": "PAJPC2vzl7Y4"
      },
      "execution_count": null,
      "outputs": []
    }
  ]
}