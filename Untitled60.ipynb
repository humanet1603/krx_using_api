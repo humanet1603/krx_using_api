{
  "nbformat": 4,
  "nbformat_minor": 0,
  "metadata": {
    "colab": {
      "provenance": [],
      "mount_file_id": "1FIYfIfLUg84d4FoCHKyB3zT7BNpG8N-h",
      "authorship_tag": "ABX9TyNoMqzV6LppyDHj+dtVJI9j",
      "include_colab_link": true
    },
    "kernelspec": {
      "name": "python3",
      "display_name": "Python 3"
    },
    "language_info": {
      "name": "python"
    }
  },
  "cells": [
    {
      "cell_type": "markdown",
      "metadata": {
        "id": "view-in-github",
        "colab_type": "text"
      },
      "source": [
        "<a href=\"https://colab.research.google.com/github/humanet1603/krx_using_api/blob/main/Untitled60.ipynb\" target=\"_parent\"><img src=\"https://colab.research.google.com/assets/colab-badge.svg\" alt=\"Open In Colab\"/></a>"
      ]
    },
    {
      "cell_type": "code",
      "source": [
        "import requests\n",
        "from bs4 import BeautifulSoup\n",
        "import pandas as pd\n",
        "\n",
        "def get_reuters_news():\n",
        "    url = \"https://www.reuters.com/news/archive/topNews\"\n",
        "    headers = {\n",
        "        'User-Agent': 'Mozilla/5.0 (Windows NT 10.0; Win64; x64) AppleWebKit/537.36 (KHTML, like Gecko) Chrome/58.0.3029.110 Safari/537.36'\n",
        "    }\n",
        "    response = requests.get(url, headers=headers)\n",
        "\n",
        "    if response.status_code != 200:\n",
        "        print(f\"Failed to retrieve data: {response.status_code}\")\n",
        "        return []\n",
        "\n",
        "    soup = BeautifulSoup(response.content, \"html.parser\")\n",
        "    print(soup.prettify())  # To inspect the HTML structure\n",
        "\n",
        "    articles = soup.find_all('article', class_='story')\n",
        "\n",
        "    news_data = []\n",
        "    for article in articles:\n",
        "        title_tag = article.find('h3', class_='story-title')\n",
        "        if title_tag:\n",
        "            title = title_tag.get_text(strip=True)\n",
        "        else:\n",
        "            title = \"No title\"\n",
        "\n",
        "        date_tag = article.find('time')\n",
        "        if date_tag:\n",
        "            date = date_tag['datetime']\n",
        "        else:\n",
        "            date = \"No date\"\n",
        "\n",
        "        summary_tag = article.find('p')\n",
        "        if summary_tag:\n",
        "            summary = summary_tag.get_text(strip=True)\n",
        "        else:\n",
        "            summary = \"No summary\"\n",
        "\n",
        "        link_tag = article.find('a')\n",
        "        if link_tag:\n",
        "            link = f\"https://www.reuters.com{link_tag['href']}\"\n",
        "        else:\n",
        "            link = \"No link\"\n",
        "\n",
        "        news_data.append({\n",
        "            'Title': title,\n",
        "            'Date': date,\n",
        "            'Summary': summary,\n",
        "            'Link': link\n",
        "        })\n",
        "\n",
        "    return news_data\n",
        "    print(news_data)\n",
        "\n",
        "def save_to_csv(news_data, filename):\n",
        "    df = pd.DataFrame(news_data)\n",
        "    df.to_csv(filename, index=False)\n",
        "    print(f\"Saved to {filename}\")\n",
        "\n",
        "news_data = get_reuters_news()\n",
        "save_to_csv(news_data, \"/content/drive/MyDrive/US MARKET/reuter_news.csv\")\n",
        "\n"
      ],
      "metadata": {
        "colab": {
          "base_uri": "https://localhost:8080/"
        },
        "id": "fWIvGop9p4Dc",
        "outputId": "38f2ee4b-88fb-4dae-daa2-3632ce81cef5"
      },
      "execution_count": 8,
      "outputs": [
        {
          "output_type": "stream",
          "name": "stdout",
          "text": [
            "Failed to retrieve data: 401\n",
            "Saved to /content/drive/MyDrive/US MARKET/reuter_news.csv\n"
          ]
        }
      ]
    }
  ]
}