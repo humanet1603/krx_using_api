{
  "nbformat": 4,
  "nbformat_minor": 0,
  "metadata": {
    "colab": {
      "private_outputs": true,
      "provenance": [],
      "authorship_tag": "ABX9TyMBxj+HLc+lSWUYTIHbJiin",
      "include_colab_link": true
    },
    "kernelspec": {
      "name": "python3",
      "display_name": "Python 3"
    },
    "language_info": {
      "name": "python"
    }
  },
  "cells": [
    {
      "cell_type": "markdown",
      "metadata": {
        "id": "view-in-github",
        "colab_type": "text"
      },
      "source": [
        "<a href=\"https://colab.research.google.com/github/humanet1603/krx_using_api/blob/main/timedate.ipynb\" target=\"_parent\"><img src=\"https://colab.research.google.com/assets/colab-badge.svg\" alt=\"Open In Colab\"/></a>"
      ]
    },
    {
      "cell_type": "markdown",
      "source": [],
      "metadata": {
        "id": "lzBJu5Ado53H"
      }
    },
    {
      "cell_type": "code",
      "source": [
        "# prompt: timedelta 모듈\n",
        "\n",
        "import datetime\n",
        "\n",
        "# 현재 날짜와 시간 가져오기\n",
        "current_datetime = datetime.datetime.now()\n",
        "print(\"현재 날짜와 시간:\", current_datetime)\n",
        "\n",
        "# 특정 날짜와 시간 생성\n",
        "some_datetime = datetime.datetime(2023, 12, 31, 23, 59, 59)\n",
        "print(\"특정 날짜와 시간:\", some_datetime)\n",
        "\n",
        "# 날짜 및 시간 형식 지정\n",
        "formatted_date = current_datetime.strftime('%Y-%m-%d %H:%M:%S')\n",
        "print(\"형식화된 날짜:\", formatted_date)\n",
        "\n",
        "\n",
        "# timedelta 예제: 두 날짜 사이의 차이 계산\n",
        "date1 = datetime.date(2024, 1, 1)\n",
        "date2 = datetime.date(2024, 1, 10)\n",
        "timedelta_obj = date2 - date1\n",
        "print(\"두 날짜 사이의 차이:\", timedelta_obj)\n",
        "print(\"두 날짜 사이의 차이 (일):\", timedelta_obj.days)\n",
        "\n",
        "# timedelta를 사용하여 날짜 계산\n",
        "future_date = current_datetime + datetime.timedelta(days=7)  # 7일 후\n",
        "print(\"7일 후:\", future_date)\n",
        "\n",
        "past_date = current_datetime - datetime.timedelta(weeks=2)  # 2주 전\n",
        "print(\"2주 전:\", past_date)\n",
        "\n",
        "# timedelta 객체의 속성\n",
        "print(\"timedelta 객체의 속성:\")\n",
        "print(\"days:\", timedelta_obj.days) # 두 날짜 사이의 일수\n",
        "print(\"seconds:\", timedelta_obj.seconds) # 두 날짜 사이의 초 (일수를 제외한)\n",
        "print(\"microseconds:\",timedelta_obj.microseconds) # 두 날짜 사이의 마이크로초 (초를 제외한)\n",
        "print(\"total_seconds():\", timedelta_obj.total_seconds()) # 두 날짜 사이의 총 초\n",
        "\n",
        "\n",
        "# 시간 연산 예시\n",
        "time1 = datetime.time(10, 0, 0)\n",
        "time2 = datetime.time(12, 30, 0)\n",
        "\n",
        "# 시간 객체끼리의 연산은 불가능, datetime 객체로 변환 후 연산해야 함.\n",
        "datetime1 = datetime.datetime.combine(datetime.date.today(), time1)\n",
        "datetime2 = datetime.datetime.combine(datetime.date.today(), time2)\n",
        "\n",
        "time_difference = datetime2 - datetime1\n",
        "print(\"두 시간의 차이:\", time_difference)"
      ],
      "metadata": {
        "id": "xMDmFVfBqhIn"
      },
      "execution_count": null,
      "outputs": []
    }
  ]
}