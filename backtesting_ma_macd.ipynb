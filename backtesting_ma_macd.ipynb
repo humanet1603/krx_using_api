{
  "nbformat": 4,
  "nbformat_minor": 0,
  "metadata": {
    "colab": {
      "private_outputs": true,
      "provenance": [],
      "mount_file_id": "16uYa-z_4vvjtEE-5Gd-3-CzPlKsipQS2",
      "authorship_tag": "ABX9TyMh7jNo8yUKPgHOfZEnzVfB",
      "include_colab_link": true
    },
    "kernelspec": {
      "name": "python3",
      "display_name": "Python 3"
    },
    "language_info": {
      "name": "python"
    }
  },
  "cells": [
    {
      "cell_type": "markdown",
      "metadata": {
        "id": "view-in-github",
        "colab_type": "text"
      },
      "source": [
        "<a href=\"https://colab.research.google.com/github/humanet1603/krx_using_api/blob/main/backtesting_ma_macd.ipynb\" target=\"_parent\"><img src=\"https://colab.research.google.com/assets/colab-badge.svg\" alt=\"Open In Colab\"/></a>"
      ]
    },
    {
      "cell_type": "code",
      "source": [
        "!pip install matplotlib\n"
      ],
      "metadata": {
        "id": "FhLAP1bOgUwC"
      },
      "execution_count": null,
      "outputs": []
    },
    {
      "cell_type": "code",
      "execution_count": null,
      "metadata": {
        "id": "bScS86C4fX9e"
      },
      "outputs": [],
      "source": [
        "!pip install matplotlib\n",
        "import matplotlib.pyplot as plt\n",
        "import pandas as pd\n",
        "\n",
        "# Load full data for plotting (previously we used preview data)\n",
        "met_full_data = pd.read_excel(\"/content/MET_Data_0502.xlsx\")\n",
        "nvidia_full_data = pd.read_excel(\"/content/NVIDIA_data_0502.xlsx\")\n",
        "\n",
        "# Convert date columns to datetime format\n",
        "met_full_data['date'] = pd.to_datetime(met_full_data['date'])\n",
        "nvidia_full_data['날짜'] = pd.to_datetime(nvidia_full_data['날짜'])\n",
        "nvidia_full_data.rename(columns={'날짜': 'date', '종가 단순 5': 'ma5', 10: 'ma10'}, inplace=True)\n",
        "\n",
        "# Plotting MA5 and MA10 for both MET and NVIDIA\n",
        "plt.figure(figsize=(14, 7))\n",
        "\n",
        "# MET data plot\n",
        "plt.subplot(1, 2, 1)\n",
        "plt.plot(met_full_data['date'], met_full_data['ma5'], label='MA5', color='blue')\n",
        "plt.plot(met_full_data['date'], met_full_data['ma10'], label='MA10', color='green')\n",
        "plt.title('MET Moving Averages')\n",
        "plt.xlabel('Date')\n",
        "plt.ylabel('Price')\n",
        "plt.legend()\n",
        "\n",
        "# NVIDIA data plot\n",
        "plt.subplot(1, 2, 2)\n",
        "plt.plot(nvidia_full_data['date'], nvidia_full_data['ma5'], label='MA5', color='blue')\n",
        "plt.plot(nvidia_full_data['date'], nvidia_full_data['ma10'], label='MA10', color='green')\n",
        "plt.title('NVIDIA Moving Averages')\n",
        "plt.xlabel('Date')\n",
        "plt.ylabel('Price')\n",
        "plt.legend()\n",
        "\n",
        "plt.tight_layout()\n",
        "plt.show()\n"
      ]
    },
    {
      "cell_type": "code",
      "source": [
        "# Standardize the starting point of MA5 and MA10 to 100 for both MET and NVIDIA\n",
        "\n",
        "# Calculate the initial values for MET\n",
        "met_initial_ma5 = met_full_data['ma5'].iloc[0]\n",
        "met_initial_ma10 = met_full_data['ma10'].iloc[0]\n",
        "\n",
        "# Standardize MET data\n",
        "met_full_data['ma5_normalized'] = met_full_data['ma5'] / met_initial_ma5 * 100\n",
        "met_full_data['ma10_normalized'] = met_full_data['ma10'] / met_initial_ma10 * 100\n",
        "\n",
        "# Calculate the initial values for NVIDIA\n",
        "nvidia_initial_ma5 = nvidia_full_data['ma5'].iloc[0]\n",
        "nvidia_initial_ma10 = nvidia_full_data['ma10'].iloc[0]\n",
        "\n",
        "# Standardize NVIDIA data\n",
        "nvidia_full_data['ma5_normalized'] = nvidia_full_data['ma5'] / nvidia_initial_ma5 * 100\n",
        "nvidia_full_data['ma10_normalized'] = nvidia_full_data['ma10'] / nvidia_initial_ma10 * 100\n",
        "\n",
        "# Plotting normalized MA5 and MA10 for both MET and NVIDIA in one frame\n",
        "plt.figure(figsize=(14, 7))\n",
        "\n",
        "# MET normalized data plot\n",
        "plt.plot(met_full_data['date'], met_full_data['ma5_normalized'], label='MET MA5', color='blue')\n",
        "plt.plot(met_full_data['date'], met_full_data['ma10_normalized'], label='MET MA10', color='green')\n",
        "\n",
        "# NVIDIA normalized data plot\n",
        "plt.plot(nvidia_full_data['date'], nvidia_full_data['ma5_normalized'], label='NVIDIA MA5', color='red', linestyle='--')\n",
        "plt.plot(nvidia_full_data['date'], nvidia_full_data['ma10_normalized'], label='NVIDIA MA10', color='orange', linestyle='--')\n",
        "\n",
        "plt.title('Normalized Moving Averages for MET and NVIDIA')\n",
        "plt.xlabel('Date')\n",
        "plt.ylabel('Normalized Price')\n",
        "plt.legend()\n",
        "plt.grid(True)\n",
        "plt.show()\n"
      ],
      "metadata": {
        "id": "jGExjHHQh9tH"
      },
      "execution_count": null,
      "outputs": []
    },
    {
      "cell_type": "code",
      "source": [
        "# Filter data for January 2, 2024\n",
        "met_jan_2024 = met_full_data[met_full_data['date'] == '2024-01-02']\n",
        "nvidia_jan_2024 = nvidia_full_data[nvidia_full_data['date'] == '2024-01-02']\n",
        "\n",
        "# Check if data exists for January 2, 2024 and calculate the mean values if data is available\n",
        "if not met_jan_2024.empty and not nvidia_jan_2024.empty:\n",
        "    met_jan_2024_ma5 = met_jan_2024['ma5'].iloc[0]\n",
        "    met_jan_2024_ma10 = met_jan_2024['ma10'].iloc[0]\n",
        "    nvidia_jan_2024_ma5 = nvidia_jan_2024['ma5'].iloc[0]\n",
        "    nvidia_jan_2024_ma10 = nvidia_jan_2024['ma10'].iloc[0]\n",
        "\n",
        "    # Normalize the entire dataset based on January 2, 2024 values\n",
        "    met_full_data['ma5_normalized_jan_2024'] = met_full_data['ma5'] / met_jan_2024_ma5 * 100\n",
        "    met_full_data['ma10_normalized_jan_2024'] = met_full_data['ma10'] / met_jan_2024_ma10 * 100\n",
        "    nvidia_full_data['ma5_normalized_jan_2024'] = nvidia_full_data['ma5'] / nvidia_jan_2024_ma5 * 100\n",
        "    nvidia_full_data['ma10_normalized_jan_2024'] = nvidia_full_data['ma10'] / nvidia_jan_2024_ma10 * 100\n",
        "\n",
        "    # Plotting normalized MA5 and MA10 for both MET and NVIDIA based on 2024-01-02\n",
        "    plt.figure(figsize=(14, 7))\n",
        "\n",
        "    # MET normalized data plot\n",
        "    plt.plot(met_full_data['date'], met_full_data['ma5_normalized_jan_2024'], label='MET MA5', color='blue')\n",
        "    plt.plot(met_full_data['date'], met_full_data['ma10_normalized_jan_2024'], label='MET MA10', color='green')\n",
        "\n",
        "    # NVIDIA normalized data plot\n",
        "    plt.plot(nvidia_full_data['date'], nvidia_full_data['ma5_normalized_jan_2024'], label='NVIDIA MA5', color='red', linestyle='--')\n",
        "    plt.plot(nvidia_full_data['date'], nvidia_full_data['ma10_normalized_jan_2024'], label='NVIDIA MA10', color='orange', linestyle='--')\n",
        "\n",
        "    plt.title('Normalized Moving Averages for MET and NVIDIA as of 2024-01-02')\n",
        "    plt.xlabel('Date')\n",
        "    plt.ylabel('Normalized Price')\n",
        "    plt.legend()\n",
        "    plt.grid(True)\n",
        "    plt.show()\n",
        "else:\n",
        "    print(\"Data for January 2, 2024 is not available in the dataset.\")\n"
      ],
      "metadata": {
        "id": "I4M--JHvjF86"
      },
      "execution_count": null,
      "outputs": []
    },
    {
      "cell_type": "markdown",
      "source": [],
      "metadata": {
        "id": "JpqPT2MjuF6E"
      }
    }
  ]
}