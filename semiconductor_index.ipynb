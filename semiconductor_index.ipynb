{
  "nbformat": 4,
  "nbformat_minor": 0,
  "metadata": {
    "colab": {
      "private_outputs": true,
      "provenance": [],
      "mount_file_id": "1T4NxSotCaj7MDWlIFwn5HDxxqKXyiktA",
      "authorship_tag": "ABX9TyNYgWFMvYui/pDJdZPIQMYA",
      "include_colab_link": true
    },
    "kernelspec": {
      "name": "python3",
      "display_name": "Python 3"
    },
    "language_info": {
      "name": "python"
    }
  },
  "cells": [
    {
      "cell_type": "markdown",
      "metadata": {
        "id": "view-in-github",
        "colab_type": "text"
      },
      "source": [
        "<a href=\"https://colab.research.google.com/github/humanet1603/krx_using_api/blob/main/semiconductor_index.ipynb\" target=\"_parent\"><img src=\"https://colab.research.google.com/assets/colab-badge.svg\" alt=\"Open In Colab\"/></a>"
      ]
    },
    {
      "cell_type": "markdown",
      "source": [
        "## 반도체 및 반도체 장비 데이터 2023년 1월 2일부터 현재까지"
      ],
      "metadata": {
        "id": "_kELDfIiOVJ7"
      }
    },
    {
      "cell_type": "code",
      "source": [
        "import yfinance as yf\n",
        "import pandas as pd\n",
        "from datetime import datetime\n",
        "\n",
        "# 티커 리스트\n",
        "tickers = [\n",
        "    \"NVDA\", \"TSM\", \"AVGO\", \"ASML\", \"AMD\", \"MU\", \"MRVL\", \"MPWR\", \"FSLR\", \"ENTG\",\n",
        "    \"NVMI\", \"TSEM\", \"MKSI\", \"OLED\", \"RMBS\", \"CRUS\", \"PI\", \"CAMT\", \"ACLS\", \"SMTC\",\n",
        "    \"SIMO\", \"VECO\", \"UCTT\", \"PLAB\", \"ACMR\", \"ICHR\", \"PDFS\", \"IMOS\", \"SGH\", \"CEVA\",\n",
        "    \"AEHR\", \"QUIK\", \"MX\", \"AXTI\", \"MRAM\", \"INTT\", \"ATOM\", \"SOL\", \"PXLW\", \"KOPN\",\n",
        "    \"SQNS\", \"WISA\", \"SPI\"\n",
        "]\n",
        "\n",
        "# 현재 날짜\n",
        "end_date = datetime.now().strftime('%Y-%m-%d')\n",
        "\n",
        "# 데이터 수집\n",
        "data = yf.download(tickers, start=\"2023-01-02\", end=end_date)\n",
        "\n",
        "# CSV 파일로 저장\n",
        "output_file_path = '/content/Semiconductor_Stocks_OHLCV.csv'\n",
        "data.to_csv(output_file_path)\n",
        "\n",
        "print(f\"Data saved to {output_file_path}\")\n"
      ],
      "metadata": {
        "id": "hKa6bQ8BOJvg"
      },
      "execution_count": null,
      "outputs": []
    },
    {
      "cell_type": "markdown",
      "source": [
        "## 지수개발"
      ],
      "metadata": {
        "id": "1io4gEeaQTFr"
      }
    },
    {
      "cell_type": "code",
      "source": [
        "import yfinance as yf\n",
        "import pandas as pd\n",
        "from datetime import datetime\n",
        "\n",
        "# 티커 리스트\n",
        "tickers = [\n",
        "    \"NVDA\", \"TSM\", \"AVGO\", \"ASML\", \"AMD\", \"MU\", \"MRVL\", \"MPWR\", \"FSLR\", \"ENTG\",\n",
        "    \"NVMI\", \"TSEM\", \"MKSI\", \"OLED\", \"RMBS\", \"CRUS\", \"PI\", \"CAMT\", \"ACLS\", \"SMTC\",\n",
        "    \"SIMO\", \"VECO\", \"UCTT\", \"PLAB\", \"ACMR\", \"ICHR\", \"PDFS\", \"IMOS\", \"SGH\", \"CEVA\",\n",
        "    \"AEHR\", \"QUIK\", \"MX\", \"AXTI\", \"MRAM\", \"INTT\", \"ATOM\", \"SOL\", \"PXLW\", \"KOPN\",\n",
        "    \"SQNS\", \"WISA\", \"SPI\"\n",
        "]\n",
        "\n",
        "# 데이터 수집\n",
        "end_date = datetime.now().strftime('%Y-%m-%d')\n",
        "data = yf.download(tickers, start=\"2023-01-02\", end=end_date)\n",
        "\n",
        "# 주가 가중치 지수 계산\n",
        "if not data.empty and 'Close' in data.columns:\n",
        "    daily_close_prices = data['Close']  # 종가 데이터 추출\n",
        "    daily_indices = daily_close_prices.sum(axis=1)  # 각 날짜별 종가 합계\n",
        "    base_value = daily_indices.iloc[0]  # 기준 날짜의 종가 합계 (2023년 1월 2일)\n",
        "    index_series = (daily_indices / base_value) * 1000  # 지수 계산\n",
        "\n",
        "    # 결과 출력 및 저장\n",
        "    print(index_series.head())  # 계산된 지수 일부 출력\n",
        "    index_series.to_csv('/content/Price_Weighted_Index.csv')  # CSV 파일로 저장\n"
      ],
      "metadata": {
        "id": "RULBNsjlQW68"
      },
      "execution_count": null,
      "outputs": []
    },
    {
      "cell_type": "markdown",
      "source": [
        "# ohlcv"
      ],
      "metadata": {
        "id": "AYKGZP0gSiwP"
      }
    },
    {
      "cell_type": "code",
      "source": [
        "import yfinance as yf\n",
        "import pandas as pd\n",
        "from datetime import datetime\n",
        "\n",
        "# 티커 리스트\n",
        "tickers = [\n",
        "    \"NVDA\", \"TSM\", \"AVGO\", \"ASML\", \"AMD\", \"MU\", \"MRVL\", \"MPWR\", \"FSLR\", \"ENTG\",\n",
        "    \"NVMI\", \"TSEM\", \"MKSI\", \"OLED\", \"RMBS\", \"CRUS\", \"PI\", \"CAMT\", \"ACLS\", \"SMTC\",\n",
        "    \"SIMO\", \"VECO\", \"UCTT\", \"PLAB\", \"ACMR\", \"ICHR\", \"PDFS\", \"IMOS\", \"SGH\", \"CEVA\",\n",
        "    \"AEHR\", \"QUIK\", \"MX\", \"AXTI\", \"MRAM\", \"INTT\", \"ATOM\", \"SOL\", \"PXLW\", \"KOPN\",\n",
        "    \"SQNS\", \"WISA\", \"SPI\"\n",
        "]\n",
        "\n",
        "# 데이터 수집\n",
        "end_date = datetime.now().strftime('%Y-%m-%d')\n",
        "data = yf.download(tickers, start=\"2023-01-02\", end=end_date)\n",
        "\n",
        "# OHLC 지수 계산\n",
        "if not data.empty:\n",
        "    ohlc_data = {\n",
        "        'Open': data['Open'].sum(axis=1),\n",
        "        'High': data['High'].sum(axis=1),\n",
        "        'Low': data['Low'].sum(axis=1),\n",
        "        'Close': data['Close'].sum(axis=1)\n",
        "    }\n",
        "    ohlc_index = pd.DataFrame(ohlc_data)\n",
        "    ohlc_index['Base'] = ohlc_index['Close'].iloc[0]\n",
        "    ohlc_index_normalized = ohlc_index.apply(lambda x: (x / ohlc_index['Base']) * 1000)\n",
        "\n",
        "    # 결과 출력 및 저장\n",
        "    print(ohlc_index_normalized.head())  # 계산된 지수 일부 출력\n",
        "    ohlc_index_normalized.to_csv('/content/OHLC_Price_Weighted_Index.csv')  # CSV 파일로 저장\n"
      ],
      "metadata": {
        "id": "jwt1NgntSqdf"
      },
      "execution_count": null,
      "outputs": []
    },
    {
      "cell_type": "code",
      "source": [
        "import yfinance as yf\n",
        "import pandas as pd\n",
        "from datetime import datetime\n",
        "\n",
        "# 티커 리스트\n",
        "tickers = [\n",
        "    \"NVDA\", \"TSM\", \"AVGO\", \"ASML\", \"AMD\", \"MU\", \"MRVL\", \"MPWR\", \"FSLR\", \"ENTG\",\n",
        "    \"NVMI\", \"TSEM\", \"MKSI\", \"OLED\", \"RMBS\", \"CRUS\", \"PI\", \"CAMT\", \"ACLS\", \"SMTC\",\n",
        "    \"SIMO\", \"VECO\", \"UCTT\", \"PLAB\", \"ACMR\", \"ICHR\", \"PDFS\", \"IMOS\", \"SGH\", \"CEVA\",\n",
        "    \"AEHR\", \"QUIK\", \"MX\", \"AXTI\", \"MRAM\", \"INTT\", \"ATOM\", \"SOL\", \"PXLW\", \"KOPN\",\n",
        "    \"SQNS\", \"WISA\", \"SPI\"\n",
        "]\n",
        "\n",
        "# 데이터 수집\n",
        "end_date = datetime.now().strftime('%Y-%m-%d')\n",
        "data = yf.download(tickers, start=\"2023-01-02\", end=end_date)\n",
        "\n",
        "# OHLC 지수 계산\n",
        "if not data.empty:\n",
        "    ohlc_data = {\n",
        "        'Open': data['Open'].sum(axis=1),\n",
        "        'High': data['High'].sum(axis=1),\n",
        "        'Low': data['Low'].sum(axis=1),\n",
        "        'Close': data['Close'].sum(axis=1)\n",
        "    }\n",
        "    ohlc_index = pd.DataFrame(ohlc_data)\n",
        "    ohlc_index['Base'] = ohlc_index['Close'].iloc[0]\n",
        "    ohlc_index_normalized = ohlc_index.apply(lambda x: (x / ohlc_index['Base']) * 1000)\n",
        "\n",
        "    # 소수점 둘째 자리까지 반올림\n",
        "    ohlc_index_normalized = ohlc_index_normalized.round(2)\n",
        "\n",
        "    # 결과 출력 및 저장\n",
        "    print(ohlc_index_normalized.head())  # 계산된 지수 일부 출력\n",
        "    ohlc_index_normalized.to_csv('/content/OHLC_Price_Weighted_Index.csv')  # CSV 파일로 저장\n"
      ],
      "metadata": {
        "id": "bXmISPNhTnEQ"
      },
      "execution_count": null,
      "outputs": []
    },
    {
      "cell_type": "markdown",
      "source": [
        "# 봉차트"
      ],
      "metadata": {
        "id": "qyudk9QkU5B7"
      }
    },
    {
      "cell_type": "code",
      "source": [
        "!pip install mplfinance\n",
        "\n",
        "import yfinance as yf\n",
        "import pandas as pd\n",
        "import mplfinance as mpf\n",
        "from datetime import datetime\n",
        "\n",
        "# 티커 리스트\n",
        "tickers = [\n",
        "    \"NVDA\", \"TSM\", \"AVGO\", \"ASML\", \"AMD\", \"MU\", \"MRVL\", \"MPWR\", \"FSLR\", \"ENTG\",\n",
        "    \"NVMI\", \"TSEM\", \"MKSI\", \"OLED\", \"RMBS\", \"CRUS\", \"PI\", \"CAMT\", \"ACLS\", \"SMTC\",\n",
        "    \"SIMO\", \"VECO\", \"UCTT\", \"PLAB\", \"ACMR\", \"ICHR\", \"PDFS\", \"IMOS\", \"SGH\", \"CEVA\",\n",
        "    \"AEHR\", \"QUIK\", \"MX\", \"AXTI\", \"MRAM\", \"INTT\", \"ATOM\", \"SOL\", \"PXLW\", \"KOPN\",\n",
        "    \"SQNS\", \"WISA\", \"SPI\"\n",
        "]\n",
        "\n",
        "# 데이터 수집\n",
        "end_date = datetime.now().strftime('%Y-%m-%d')\n",
        "data = yf.download(tickers, start=\"2023-01-02\", end=end_date)\n",
        "\n",
        "# OHLC 지수 계산\n",
        "if not data.empty:\n",
        "    ohlc_data = {\n",
        "        'Open': data['Open'].sum(axis=1),\n",
        "        'High': data['High'].sum(axis=1),\n",
        "        'Low': data['Low'].sum(axis=1),\n",
        "        'Close': data['Close'].sum(axis=1)\n",
        "    }\n",
        "    ohlc_index = pd.DataFrame(ohlc_data)\n",
        "    ohlc_index.index = pd.to_datetime(ohlc_index.index)  # 인덱스를 datetime 형태로 변환\n",
        "\n",
        "    # 봉차트 그리기\n",
        "    mpf.plot(ohlc_index, type='candle', style='charles', title='Price Weighted OHLC Index',\n",
        "             ylabel='Index Value')\n"
      ],
      "metadata": {
        "id": "43M4JpDkU8wY"
      },
      "execution_count": null,
      "outputs": []
    },
    {
      "cell_type": "code",
      "source": [
        "import pandas as pd\n",
        "import matplotlib.pyplot as plt\n",
        "\n",
        "# CSV 파일 경로 설정\n",
        "file_path = '/content/OHLC_Price_Weighted_Index.csv'\n",
        "\n",
        "# 데이터 로드\n",
        "ohlc_data = pd.read_csv(file_path, index_col='Date', parse_dates=True)\n",
        "\n",
        "# 라인차트 생성\n",
        "plt.figure(figsize=(10, 6))\n",
        "plt.plot(ohlc_data['Close'], label='Price Weighted Index - Close', color='blue', linewidth=1.5)\n",
        "plt.title('Price Weighted Index Over Time')\n",
        "plt.xlabel('Date')\n",
        "plt.ylabel('Index Value')\n",
        "plt.legend()\n",
        "plt.grid(True)\n",
        "plt.show()\n"
      ],
      "metadata": {
        "id": "j4axXzYAWf5u"
      },
      "execution_count": null,
      "outputs": []
    },
    {
      "cell_type": "code",
      "source": [
        "import pandas as pd\n",
        "import matplotlib.pyplot as plt\n",
        "\n",
        "# 데이터 로드\n",
        "file_path = '/content/OHLC_Price_Weighted_Index.csv'\n",
        "data = pd.read_csv(file_path, index_col='Date', parse_dates=True)\n",
        "\n",
        "# 5일 이동평균 계산\n",
        "data['MA5'] = data['Close'].rolling(window=5).mean()\n",
        "\n",
        "# 그래프 그리기\n",
        "plt.figure(figsize=(10, 6))\n",
        "plt.plot(data['Close'], label='Close', color='blue', linewidth=1.9)\n",
        "plt.plot(data['MA5'], label='MA5', color='red', linewidth=1.9)\n",
        "plt.title('Price Weighted Index and 5-Day Moving Average')\n",
        "plt.xlabel('Date')\n",
        "plt.ylabel('Index Value')\n",
        "plt.legend()\n",
        "plt.grid(True)\n",
        "plt.show()\n"
      ],
      "metadata": {
        "id": "QT0fi5bXXYVq"
      },
      "execution_count": null,
      "outputs": []
    },
    {
      "cell_type": "code",
      "source": [
        "import pandas as pd\n",
        "import matplotlib.pyplot as plt\n",
        "\n",
        "# 데이터 로드 및 파싱\n",
        "file_path = '/content/OHLC_Price_Weighted_Index.csv'\n",
        "data = pd.read_csv(file_path, index_col='Date', parse_dates=True)\n",
        "\n",
        "# 2024년 1월 이후 데이터 필터링\n",
        "data_filtered = data[data.index >= '2024-01-01']\n",
        "\n",
        "# 5일 이동평균 계산\n",
        "data_filtered['MA5'] = data_filtered['Close'].rolling(window=5).mean()\n",
        "\n",
        "# 그래프 그리기\n",
        "plt.figure(figsize=(10, 6))\n",
        "plt.plot(data_filtered['Close'], label='Close', color='blue', linewidth=1.5)\n",
        "plt.plot(data_filtered['MA5'], label='MA5', color='red', linewidth=1.5)\n",
        "plt.title('Price Weighted Index and 5-Day Moving Average (From Jan 2024)')\n",
        "plt.xlabel('Date')\n",
        "plt.ylabel('Index Value')\n",
        "plt.legend()\n",
        "plt.grid(True)\n",
        "plt.show()\n"
      ],
      "metadata": {
        "id": "6WxIAjPqYtEC"
      },
      "execution_count": null,
      "outputs": []
    },
    {
      "cell_type": "code",
      "source": [
        "import pandas as pd\n",
        "import matplotlib.pyplot as plt\n",
        "\n",
        "# 데이터 로드 및 파싱\n",
        "file_path = '/content/OHLC_Price_Weighted_Index.csv'\n",
        "data = pd.read_csv(file_path, index_col='Date', parse_dates=True)\n",
        "\n",
        "# 2024년 1월 이후 데이터 필터링\n",
        "data_filtered = data[data.index >= '2024-01-01']\n",
        "\n",
        "# 각 요소에 대한 5일 이동평균 계산\n",
        "data_filtered['Open_MA5'] = data_filtered['Open'].rolling(window=5).mean()\n",
        "data_filtered['High_MA5'] = data_filtered['High'].rolling(window=5).mean()\n",
        "data_filtered['Low_MA5'] = data_filtered['Low'].rolling(window=5).mean()\n",
        "data_filtered['Close_MA5'] = data_filtered['Close'].rolling(window=5).mean()\n",
        "\n",
        "# 그래프 그리기\n",
        "plt.figure(figsize=(12, 8))\n",
        "plt.plot(data_filtered['Open_MA5'], label='Open MA5', color='green', linewidth=1.5)\n",
        "plt.plot(data_filtered['High_MA5'], label='High MA5', color='red', linewidth=1.5)\n",
        "plt.plot(data_filtered['Low_MA5'], label='Low MA5', color='blue', linewidth=1.5)\n",
        "plt.plot(data_filtered['Close_MA5'], label='Close MA5', color='black', linewidth=1.5)\n",
        "plt.title('5-Day Moving Averages of OHLC')\n",
        "plt.xlabel('Date')\n",
        "plt.ylabel('Index Value')\n",
        "plt.legend()\n",
        "plt.grid(True)\n",
        "plt.show()\n"
      ],
      "metadata": {
        "id": "SdCGtwxfZjEQ"
      },
      "execution_count": null,
      "outputs": []
    },
    {
      "cell_type": "code",
      "source": [
        "import pandas as pd\n",
        "import matplotlib.pyplot as plt\n",
        "\n",
        "# 데이터 로드 및 파싱\n",
        "file_path = '/content/OHLC_Price_Weighted_Index.csv'\n",
        "data = pd.read_csv(file_path, index_col='Date', parse_dates=True)\n",
        "\n",
        "# 2024년 1월 이후 데이터 필터링\n",
        "data_filtered = data[data.index >= '2024-01-01']\n",
        "\n",
        "# 각 요소에 대한 5일 이동평균 계산\n",
        "data_filtered['Open_MA5'] = data_filtered['Open'].rolling(window=5).mean()\n",
        "data_filtered['High_MA5'] = data_filtered['High'].rolling(window=5).mean()\n",
        "data_filtered['Low_MA5'] = data_filtered['Low'].rolling(window=5).mean()\n",
        "data_filtered['Close_MA5'] = data_filtered['Close'].rolling(window=5).mean()\n",
        "\n",
        "# 그래프 그리기\n",
        "plt.figure(figsize=(12, 8))\n",
        "plt.plot(data_filtered['Open_MA5'], label='Open MA5', color='green', linewidth=1.5, linestyle='dashed')\n",
        "plt.plot(data_filtered['High_MA5'], label='High MA5', color='red', linewidth=1.5, linestyle='dashed')\n",
        "plt.plot(data_filtered['Low_MA5'], label='Low MA5', color='blue', linewidth=1.5, linestyle='dashed')\n",
        "plt.plot(data_filtered['Close_MA5'], label='Close MA5', color='black', linewidth=1.5, linestyle='dashed')\n",
        "plt.plot(data_filtered['Close'], label='Close', color='purple', linewidth=2)\n",
        "plt.title('5-Day Moving Averages and Close Price of OHLC')\n",
        "plt.xlabel('Date')\n",
        "plt.ylabel('Index Value')\n",
        "plt.legend()\n",
        "plt.grid(True)\n",
        "plt.show()\n"
      ],
      "metadata": {
        "id": "M_ICEJRNbccf"
      },
      "execution_count": null,
      "outputs": []
    }
  ]
}