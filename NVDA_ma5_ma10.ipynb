{
  "nbformat": 4,
  "nbformat_minor": 0,
  "metadata": {
    "colab": {
      "private_outputs": true,
      "provenance": [],
      "mount_file_id": "1jea9JYOsBYZxJw2DB0mAM1YgVp7SwN5I",
      "authorship_tag": "ABX9TyNEg/6dkvSkumxRln+lcdbQ",
      "include_colab_link": true
    },
    "kernelspec": {
      "name": "python3",
      "display_name": "Python 3"
    },
    "language_info": {
      "name": "python"
    }
  },
  "cells": [
    {
      "cell_type": "markdown",
      "metadata": {
        "id": "view-in-github",
        "colab_type": "text"
      },
      "source": [
        "<a href=\"https://colab.research.google.com/github/humanet1603/krx_using_api/blob/main/NVDA_ma5_ma10.ipynb\" target=\"_parent\"><img src=\"https://colab.research.google.com/assets/colab-badge.svg\" alt=\"Open In Colab\"/></a>"
      ]
    },
    {
      "cell_type": "code",
      "source": [
        "import pandas as pd\n",
        "\n",
        "# 파일 로드\n",
        "file_path = '/content/엔비디아3분데이터.csv'\n",
        "data = pd.read_csv(file_path,encoding='cp949')\n",
        "\n",
        "# 상위 5개 데이터 출력\n",
        "data.head()\n"
      ],
      "metadata": {
        "id": "KgriE6fefrUg"
      },
      "execution_count": null,
      "outputs": []
    },
    {
      "cell_type": "code",
      "source": [
        "# 이동 평균선(MA) 계산\n",
        "data['MA5'] = data['종가'].rolling(window=5).mean()\n",
        "data['MA10'] = data['종가'].rolling(window=10).mean()\n",
        "\n",
        "# MA5와 MA10 계산 결과 확인\n",
        "data[['일자 / 시간', '종가', 'MA5', 'MA10']].head(15)\n"
      ],
      "metadata": {
        "id": "htc8JC7agWDj"
      },
      "execution_count": null,
      "outputs": []
    },
    {
      "cell_type": "code",
      "source": [
        "# 매수 및 매도 신호 생성\n",
        "data['Position'] = 0  # 매수(1), 매도(-1), 보유(0) 상태\n",
        "data.loc[data['MA5'] > data['MA10'], 'Position'] = 1  # MA5가 MA10보다 클 때 매수\n",
        "data.loc[data['MA5'] < data['MA10'], 'Position'] = -1  # MA5가 MA10보다 작을 때 매도\n",
        "\n",
        "# 매수 및 매도 위치 변경 포인트 찾기\n",
        "data['Signal'] = data['Position'].diff()\n",
        "\n",
        "# 백테스팅을 위한 수익률 계산\n",
        "data['Returns'] = data['종가'].pct_change()\n",
        "data['Strategy'] = data['Returns'] * data['Position'].shift(1)  # 포지션 변경 후 수익 계산\n",
        "\n",
        "# 전체 전략 수익률 계산\n",
        "data['Cumulative Market Returns'] = (1 + data['Returns']).cumprod()\n",
        "data['Cumulative Strategy Returns'] = (1 + data['Strategy']).cumprod()\n",
        "\n",
        "# 최종 결과 확인\n",
        "backtesting_results = data[['일자 / 시간', '종가', 'MA5', 'MA10', 'Position', 'Signal', 'Returns', 'Strategy', 'Cumulative Market Returns', 'Cumulative Strategy Returns']]\n",
        "backtesting_results.tail()\n"
      ],
      "metadata": {
        "id": "8K2cAeidg1KU"
      },
      "execution_count": null,
      "outputs": []
    },
    {
      "cell_type": "code",
      "source": [
        "import pandas as pd\n",
        "\n",
        "# 데이터 로드\n",
        "data = pd.read_csv('/content/엔비디아3분데이터.csv', encoding='cp949')\n",
        "data['종가'] = data['종가'].astype(float)\n",
        "data['Returns'] = data['종가'].pct_change()\n",
        "\n",
        "# MACD 계산\n",
        "data['EMA12'] = data['종가'].ewm(span=12, adjust=False).mean()\n",
        "data['EMA26'] = data['종가'].ewm(span=26, adjust=False).mean()\n",
        "data['MACD'] = data['EMA12'] - data['EMA26']\n",
        "data['Signal'] = data['MACD'].ewm(span=9, adjust=False).mean()\n",
        "data['Histogram'] = data['MACD'] - data['Signal']\n",
        "\n",
        "# 매수/매도 포지션\n",
        "data['MACD Position'] = 0\n",
        "data.loc[data['MACD'] > data['Signal'], 'MACD Position'] = 1\n",
        "data.loc[data['MACD'] < data['Signal'], 'MACD Position'] = -1\n",
        "\n",
        "# 포지션 변화 신호\n",
        "data['MACD Signal'] = data['MACD Position'].diff()\n",
        "\n",
        "# 전략 수익률 계산\n",
        "data['MACD Strategy'] = data['Returns'] * data['MACD Position'].shift(1)\n",
        "data['Cumulative MACD Returns'] = (1 + data['MACD Strategy']).cumprod()\n",
        "\n",
        "# 결과 출력\n",
        "print(data[['일자 / 시간', '종가', 'MACD', 'Signal', 'Histogram', 'MACD Position', 'MACD Signal', 'Returns', 'MACD Strategy', 'Cumulative MACD Returns']].tail())\n"
      ],
      "metadata": {
        "id": "sCxqUWeTmSQY"
      },
      "execution_count": null,
      "outputs": []
    },
    {
      "cell_type": "code",
      "source": [
        "import pandas as pd\n",
        "\n",
        "# 데이터 로드 및 필요한 계산 수행\n",
        "data = pd.read_csv('/content/엔비디아3분데이터.csv', encoding='cp949')\n",
        "data['종가'] = data['종가'].astype(float)\n",
        "data['Returns'] = data['종가'].pct_change()\n",
        "data['EMA12'] = data['종가'].ewm(span=12, adjust=False).mean()\n",
        "data['EMA26'] = data['종가'].ewm(span=26, adjust=False).mean()\n",
        "data['MACD'] = data['EMA12'] - data['EMA26']\n",
        "data['Signal'] = data['MACD'].ewm(span=9, adjust=False).mean()\n",
        "data['Histogram'] = data['MACD'] - data['Signal']\n",
        "data['MACD Position'] = 0\n",
        "data.loc[data['MACD'] > data['Signal'], 'MACD Position'] = 1\n",
        "data.loc[data['MACD'] < data['Signal'], 'MACD Position'] = -1\n",
        "data['MACD Signal'] = data['MACD Position'].diff()\n",
        "data['MACD Strategy'] = data['Returns'] * data['MACD Position'].shift(1)\n",
        "data['Cumulative MACD Returns'] = (1 + data['MACD Strategy']).cumprod()\n",
        "\n",
        "# 결과를 CSV 파일로 저장\n",
        "output_filename = '/content/MACD_Backtesting_Results.csv'\n",
        "data[['일자 / 시간', '종가', 'MACD', 'Signal', 'Histogram', 'MACD Position', 'MACD Signal', 'Returns', 'MACD Strategy', 'Cumulative MACD Returns']].to_csv(output_filename, index=False)\n"
      ],
      "metadata": {
        "id": "RKyfd2ORm8oA"
      },
      "execution_count": null,
      "outputs": []
    }
  ]
}