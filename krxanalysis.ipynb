{
  "nbformat": 4,
  "nbformat_minor": 0,
  "metadata": {
    "colab": {
      "private_outputs": true,
      "provenance": [],
      "authorship_tag": "ABX9TyP/TteeYMvdOjze8c5VbaXn",
      "include_colab_link": true
    },
    "kernelspec": {
      "name": "python3",
      "display_name": "Python 3"
    },
    "language_info": {
      "name": "python"
    }
  },
  "cells": [
    {
      "cell_type": "markdown",
      "metadata": {
        "id": "view-in-github",
        "colab_type": "text"
      },
      "source": [
        "<a href=\"https://colab.research.google.com/github/humanet1603/krx_using_api/blob/main/krxanalysis.ipynb\" target=\"_parent\"><img src=\"https://colab.research.google.com/assets/colab-badge.svg\" alt=\"Open In Colab\"/></a>"
      ]
    },
    {
      "cell_type": "code",
      "source": [
        "!pip install pykrx"
      ],
      "metadata": {
        "id": "-IrKViZBhuxe"
      },
      "execution_count": null,
      "outputs": []
    },
    {
      "cell_type": "markdown",
      "source": [
        "### 6년간의 코스피 지수 데이터 가져와서 csv파일 만들기"
      ],
      "metadata": {
        "id": "ZKQPkUBVjFOu"
      }
    },
    {
      "cell_type": "code",
      "source": [
        "import pandas as pd\n",
        "from pykrx import stock\n",
        "from datetime import datetime, timedelta\n",
        "\n",
        "# Set the date range: today and six years ago\n",
        "end_date = datetime.now()\n",
        "start_date = end_date - timedelta(days=6*365)  # Approximation for 6 years\n",
        "\n",
        "# Formatting dates to 'YYYYMMDD' as required by pykrx\n",
        "start_date = start_date.strftime('%Y%m%d')\n",
        "end_date = end_date.strftime('%Y%m%d')\n",
        "\n",
        "# Fetch KOSPI index data\n",
        "kospi_data = stock.get_index_ohlcv_by_date(start_date, end_date, \"1001\")  # \"1001\" is the code for KOSPI\n",
        "\n",
        "# Save the data to a CSV file\n",
        "kospi_data.to_csv(\"kospi_ohlcv_data.csv\")\n",
        "print(\"Data has been saved to kospi_ohlcv_data.csv\")\n"
      ],
      "metadata": {
        "id": "b6hmHEA3jSAN"
      },
      "execution_count": null,
      "outputs": []
    }
  ]
}