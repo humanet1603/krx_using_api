{
  "nbformat": 4,
  "nbformat_minor": 0,
  "metadata": {
    "colab": {
      "provenance": [],
      "authorship_tag": "ABX9TyO//amV7buqW+W+6fpC7qLv",
      "include_colab_link": true
    },
    "kernelspec": {
      "name": "python3",
      "display_name": "Python 3"
    },
    "language_info": {
      "name": "python"
    }
  },
  "cells": [
    {
      "cell_type": "markdown",
      "metadata": {
        "id": "view-in-github",
        "colab_type": "text"
      },
      "source": [
        "<a href=\"https://colab.research.google.com/github/humanet1603/krx_using_api/blob/main/index%EB%A7%8C%EB%93%A4%EA%B8%B0.ipynb\" target=\"_parent\"><img src=\"https://colab.research.google.com/assets/colab-badge.svg\" alt=\"Open In Colab\"/></a>"
      ]
    },
    {
      "cell_type": "code",
      "execution_count": null,
      "metadata": {
        "id": "LVPh-ShpoQpi"
      },
      "outputs": [],
      "source": []
    },
    {
      "cell_type": "code",
      "source": [
        "from google.colab import drive\n",
        "drive.mount('/content/drive')"
      ],
      "metadata": {
        "colab": {
          "base_uri": "https://localhost:8080/"
        },
        "id": "1tRZNxdhYmfb",
        "outputId": "a8d4050a-9b1e-4325-9cab-0d7cb08b2ad9"
      },
      "execution_count": 1,
      "outputs": [
        {
          "output_type": "stream",
          "name": "stdout",
          "text": [
            "Mounted at /content/drive\n"
          ]
        }
      ]
    },
    {
      "cell_type": "markdown",
      "source": [
        "### 작업대상 파일\n",
        "/content/drive/MyDrive/바다의 노동자/바다의 노동자 텍스트/Les_Travailleurs_de_la_mer.pdf\n",
        "/content/drive/MyDrive/바다의 노동자/바다의_노동자_최종본.pdf"
      ],
      "metadata": {
        "id": "c9HiwL0lagYB"
      }
    },
    {
      "cell_type": "code",
      "source": [],
      "metadata": {
        "id": "bqrRhKlcapAo"
      },
      "execution_count": null,
      "outputs": []
    }
  ]
}