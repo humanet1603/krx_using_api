{
  "nbformat": 4,
  "nbformat_minor": 0,
  "metadata": {
    "colab": {
      "provenance": [],
      "mount_file_id": "1KKdBmV12tNI_RWTbj74X1o7AwqNYH4CJ",
      "authorship_tag": "ABX9TyOcx5fVqb/VAwqw4J6e0TTC",
      "include_colab_link": true
    },
    "kernelspec": {
      "name": "python3",
      "display_name": "Python 3"
    },
    "language_info": {
      "name": "python"
    }
  },
  "cells": [
    {
      "cell_type": "markdown",
      "metadata": {
        "id": "view-in-github",
        "colab_type": "text"
      },
      "source": [
        "<a href=\"https://colab.research.google.com/github/humanet1603/krx_using_api/blob/main/sk_close_ma5_backtesting.ipynb\" target=\"_parent\"><img src=\"https://colab.research.google.com/assets/colab-badge.svg\" alt=\"Open In Colab\"/></a>"
      ]
    },
    {
      "cell_type": "code",
      "execution_count": 1,
      "metadata": {
        "colab": {
          "base_uri": "https://localhost:8080/"
        },
        "id": "cDWnI4G0oM09",
        "outputId": "aa5f4142-61db-446d-f294-a305fd157351"
      },
      "outputs": [
        {
          "output_type": "execute_result",
          "data": {
            "text/plain": [
              "(         date    open    high     low   close\n",
              " 0  2021/11/23  119500  121000  117500  119000\n",
              " 1  2021/11/24  120500  122500  118000  119500\n",
              " 2  2021/11/25  120500  121000  117000  117500\n",
              " 3  2021/11/26  116500  118500  113000  115500\n",
              " 4  2021/11/29  113000  118500  113000  116000,\n",
              " Index(['date', 'open', 'high', 'low', 'close'], dtype='object'))"
            ]
          },
          "metadata": {},
          "execution_count": 1
        }
      ],
      "source": [
        "import pandas as pd\n",
        "\n",
        "# Load the uploaded CSV file to check its structure\n",
        "file_path = '/content/sk.csv'\n",
        "data = pd.read_csv(file_path)\n",
        "\n",
        "# Display the first few rows of the dataset and the column names to understand its structure\n",
        "data.head(), data.columns\n"
      ]
    },
    {
      "cell_type": "code",
      "source": [
        "import pandas as pd\n",
        "\n",
        "def load_data(file_path):\n",
        "    \"\"\"Load data from a CSV file.\"\"\"\n",
        "    data = pd.read_csv(file_path)\n",
        "    data['date'] = pd.to_datetime(data['date'])\n",
        "    return data\n",
        "\n",
        "def calculate_ma5(data):\n",
        "    \"\"\"Calculate 5-day moving average (MA5) for the 'close' prices.\"\"\"\n",
        "    data['MA5'] = data['close'].rolling(window=5).mean()\n",
        "    return data\n",
        "\n",
        "def generate_signals(data):\n",
        "    \"\"\"Generate buy and sell signals based on close prices crossing the MA5.\"\"\"\n",
        "    data['Buy_Signal'] = (data['close'] >= data['MA5']) & (data['close'].shift(1) < data['MA5'].shift(1))\n",
        "    data['Sell_Signal'] = (data['close'] < data['MA5']) & (data['close'].shift(1) >= data['MA5'].shift(1))\n",
        "    return data\n",
        "\n",
        "def simulate_trading(data):\n",
        "    \"\"\"Simulate trading by setting positions based on buy and sell signals.\"\"\"\n",
        "    data['Position'] = 0  # 0 means no position, 1 means holding the stock\n",
        "    data.loc[data['Buy_Signal'], 'Position'] = 1  # Enter position\n",
        "    data.loc[data['Sell_Signal'], 'Position'] = -1  # Exit position\n",
        "    data['Position'] = data['Position'].replace(to_replace=0, method='ffill')\n",
        "    data['Position'].replace(-1, 0, inplace=True)  # Clear positions after selling\n",
        "    return data\n",
        "\n",
        "def backtest(data):\n",
        "    \"\"\"Calculate returns and the cumulative returns of the strategy.\"\"\"\n",
        "    data['Market_Returns'] = data['close'].pct_change()\n",
        "    data['Strategy_Returns'] = data['Market_Returns'] * data['Position']\n",
        "    data['Cumulative_Strategy_Returns'] = (1 + data['Strategy_Returns']).cumprod() - 1\n",
        "    return data\n",
        "\n",
        "# Example usage\n",
        "file_path = '/content/sk.csv'\n",
        "data = load_data(file_path)\n",
        "data = calculate_ma5(data)\n",
        "data = generate_signals(data)\n",
        "data = simulate_trading(data)\n",
        "data = backtest(data)\n",
        "\n",
        "# Output results\n",
        "print(data[['date', 'close', 'MA5', 'Buy_Signal', 'Sell_Signal', 'Position', 'Cumulative_Strategy_Returns']])\n"
      ],
      "metadata": {
        "colab": {
          "base_uri": "https://localhost:8080/"
        },
        "id": "X5J1YiriomYz",
        "outputId": "61c1b118-340e-4ea9-c869-00c80083361a"
      },
      "execution_count": 4,
      "outputs": [
        {
          "output_type": "stream",
          "name": "stdout",
          "text": [
            "          date   close       MA5  Buy_Signal  Sell_Signal  Position  \\\n",
            "0   2021-11-23  119000       NaN       False        False         0   \n",
            "1   2021-11-24  119500       NaN       False        False         0   \n",
            "2   2021-11-25  117500       NaN       False        False         0   \n",
            "3   2021-11-26  115500       NaN       False        False         0   \n",
            "4   2021-11-29  116000  117500.0       False        False         0   \n",
            "..         ...     ...       ...         ...          ...       ...   \n",
            "595 2024-04-23  171000  175380.0       False        False         0   \n",
            "596 2024-04-24  179800  175600.0        True        False         1   \n",
            "597 2024-04-25  170600  173260.0       False         True         0   \n",
            "598 2024-04-26  177800  174160.0        True        False         1   \n",
            "599 2024-04-29  175900  175020.0       False        False         1   \n",
            "\n",
            "     Cumulative_Strategy_Returns  \n",
            "0                            NaN  \n",
            "1                       0.000000  \n",
            "2                       0.000000  \n",
            "3                       0.000000  \n",
            "4                       0.000000  \n",
            "..                           ...  \n",
            "595                    50.003854  \n",
            "596                    52.628614  \n",
            "597                    52.628614  \n",
            "598                    54.891955  \n",
            "599                    54.294685  \n",
            "\n",
            "[600 rows x 7 columns]\n"
          ]
        }
      ]
    },
    {
      "cell_type": "code",
      "source": [
        "import pandas as pd\n",
        "\n",
        "def load_data(file_path):\n",
        "    \"\"\"Load data from a CSV file.\"\"\"\n",
        "    data = pd.read_csv(file_path)\n",
        "    data['date'] = pd.to_datetime(data['date'])\n",
        "    return data\n",
        "\n",
        "def calculate_ma5(data):\n",
        "    \"\"\"Calculate 5-day moving average (MA5) for the 'close' prices.\"\"\"\n",
        "    data['MA5'] = data['close'].rolling(window=5).mean()\n",
        "    return data\n",
        "\n",
        "def generate_signals(data):\n",
        "    \"\"\"Generate buy and sell signals based on close prices crossing the MA5.\"\"\"\n",
        "    data['Buy_Signal'] = (data['close'] >= data['MA5']) & (data['close'].shift(1) < data['MA5'].shift(1))\n",
        "    data['Sell_Signal'] = (data['close'] < data['MA5']) & (data['close'].shift(1) >= data['MA5'].shift(1))\n",
        "    return data\n",
        "\n",
        "def simulate_trading(data):\n",
        "    \"\"\"Simulate trading by setting positions based on buy and sell signals.\"\"\"\n",
        "    data['Position'] = 0  # 0 means no position, 1 means holding the stock\n",
        "    data.loc[data['Buy_Signal'], 'Position'] = 1  # Enter position\n",
        "    data.loc[data['Sell_Signal'], 'Position'] = -1  # Exit position\n",
        "    data['Position'] = data['Position'].replace(to_replace=0, method='ffill')\n",
        "    data['Position'].replace(-1, 0, inplace=True)  # Clear positions after selling\n",
        "    return data\n",
        "\n",
        "def backtest(data):\n",
        "    \"\"\"Calculate returns and the cumulative returns of the strategy.\"\"\"\n",
        "    data['Market_Returns'] = data['close'].pct_change()\n",
        "    data['Strategy_Returns'] = data['Market_Returns'] * data['Position']\n",
        "    data['Cumulative_Strategy_Returns'] = (1 + data['Strategy_Returns']).cumprod() - 1\n",
        "    return data\n",
        "\n",
        "def save_results(data, output_file):\n",
        "    \"\"\"Save the backtesting results to a CSV file.\"\"\"\n",
        "    data.to_csv(output_file, index=False)\n",
        "    print(f\"Results saved to {output_file}\")\n",
        "\n",
        "# Example usage\n",
        "file_path = '/content/sk.csv'\n",
        "output_file = '/content/backtesting_results.csv'\n",
        "\n",
        "data = load_data(file_path)\n",
        "data = calculate_ma5(data)\n",
        "data = generate_signals(data)\n",
        "data = simulate_trading(data)\n",
        "data = backtest(data)\n",
        "save_results(data, output_file)\n",
        "\n",
        "# Output results\n",
        "print(data[['date', 'close', 'MA5', 'Buy_Signal', 'Sell_Signal', 'Position', 'Cumulative_Strategy_Returns']])\n"
      ],
      "metadata": {
        "colab": {
          "base_uri": "https://localhost:8080/"
        },
        "id": "dOl8M4h6s2xp",
        "outputId": "2291b08b-dcf2-4b6f-c7fe-c808d8792cd4"
      },
      "execution_count": 5,
      "outputs": [
        {
          "output_type": "stream",
          "name": "stdout",
          "text": [
            "Results saved to /content/backtesting_results.csv\n",
            "          date   close       MA5  Buy_Signal  Sell_Signal  Position  \\\n",
            "0   2021-11-23  119000       NaN       False        False         0   \n",
            "1   2021-11-24  119500       NaN       False        False         0   \n",
            "2   2021-11-25  117500       NaN       False        False         0   \n",
            "3   2021-11-26  115500       NaN       False        False         0   \n",
            "4   2021-11-29  116000  117500.0       False        False         0   \n",
            "..         ...     ...       ...         ...          ...       ...   \n",
            "595 2024-04-23  171000  175380.0       False        False         0   \n",
            "596 2024-04-24  179800  175600.0        True        False         1   \n",
            "597 2024-04-25  170600  173260.0       False         True         0   \n",
            "598 2024-04-26  177800  174160.0        True        False         1   \n",
            "599 2024-04-29  175900  175020.0       False        False         1   \n",
            "\n",
            "     Cumulative_Strategy_Returns  \n",
            "0                            NaN  \n",
            "1                       0.000000  \n",
            "2                       0.000000  \n",
            "3                       0.000000  \n",
            "4                       0.000000  \n",
            "..                           ...  \n",
            "595                    50.003854  \n",
            "596                    52.628614  \n",
            "597                    52.628614  \n",
            "598                    54.891955  \n",
            "599                    54.294685  \n",
            "\n",
            "[600 rows x 7 columns]\n"
          ]
        }
      ]
    },
    {
      "cell_type": "code",
      "source": [
        "import pandas as pd\n",
        "\n",
        "def load_data(file_path):\n",
        "    \"\"\"Load data from a CSV file and filter it for the specified period.\"\"\"\n",
        "    data = pd.read_csv(file_path)\n",
        "    data['date'] = pd.to_datetime(data['date'])\n",
        "    # Filter data for the specified period\n",
        "    start_date = '2024-01-02'\n",
        "    end_date = '2024-04-30'\n",
        "    data = data[(data['date'] >= start_date) & (data['date'] <= end_date)]\n",
        "    return data\n",
        "\n",
        "def calculate_ma5(data):\n",
        "    \"\"\"Calculate 5-day moving average (MA5) for the 'close' prices.\"\"\"\n",
        "    data['MA5'] = data['close'].rolling(window=5).mean()\n",
        "    return data\n",
        "\n",
        "def generate_signals(data):\n",
        "    \"\"\"Generate buy and sell signals based on close prices crossing the MA5.\"\"\"\n",
        "    data['Buy_Signal'] = (data['close'] >= data['MA5']) & (data['close'].shift(1) < data['MA5'].shift(1))\n",
        "    data['Sell_Signal'] = (data['close'] < data['MA5']) & (data['close'].shift(1) >= data['MA5'].shift(1))\n",
        "    return data\n",
        "\n",
        "def simulate_trading(data):\n",
        "    \"\"\"Simulate trading by setting positions based on buy and sell signals.\"\"\"\n",
        "    data['Position'] = 0  # 0 means no position, 1 means holding the stock\n",
        "    data.loc[data['Buy_Signal'], 'Position'] = 1  # Enter position\n",
        "    data.loc[data['Sell_Signal'], 'Position'] = -1  # Exit position\n",
        "    data['Position'] = data['Position'].replace(to_replace=0, method='ffill')\n",
        "    data['Position'].replace(-1, 0, inplace=True)  # Clear positions after selling\n",
        "    return data\n",
        "\n",
        "def backtest(data):\n",
        "    \"\"\"Calculate returns and the cumulative returns of the strategy.\"\"\"\n",
        "    data['Market_Returns'] = data['close'].pct_change()\n",
        "    data['Strategy_Returns'] = data['Market_Returns'] * data['Position']\n",
        "    data['Cumulative_Strategy_Returns'] = (1 + data['Strategy_Returns']).cumprod() - 1\n",
        "    return data\n",
        "\n",
        "def save_results(data, output_file):\n",
        "    \"\"\"Save the backtesting results to a CSV file.\"\"\"\n",
        "    data.to_csv(output_file, index=False)\n",
        "    print(f\"Results saved to {output_file}\")\n",
        "\n",
        "# Example usage\n",
        "file_path = '/content/sk.csv'\n",
        "output_file = '/content/backtesting_2024.csv'\n",
        "\n",
        "data = load_data(file_path)\n",
        "data = calculate_ma5(data)\n",
        "data = generate_signals(data)\n",
        "data = simulate_trading(data)\n",
        "data = backtest(data)\n",
        "save_results(data, output_file)\n",
        "\n",
        "# Output results\n",
        "print(data[['date', 'close', 'MA5', 'Buy_Signal', 'Sell_Signal', 'Position', 'Cumulative_Strategy_Returns']])\n"
      ],
      "metadata": {
        "colab": {
          "base_uri": "https://localhost:8080/"
        },
        "id": "Gpn1NeWDvMqH",
        "outputId": "fc295c13-ca15-474a-bc8e-5742804deda8"
      },
      "execution_count": 6,
      "outputs": [
        {
          "output_type": "stream",
          "name": "stdout",
          "text": [
            "Results saved to /content/backtesting_2024.csv\n",
            "          date   close       MA5  Buy_Signal  Sell_Signal  Position  \\\n",
            "519 2024-01-02  142400       NaN       False        False         0   \n",
            "520 2024-01-03  136800       NaN       False        False         0   \n",
            "521 2024-01-04  136400       NaN       False        False         0   \n",
            "522 2024-01-05  137500       NaN       False        False         0   \n",
            "523 2024-01-08  136000  137820.0       False        False         0   \n",
            "..         ...     ...       ...         ...          ...       ...   \n",
            "595 2024-04-23  171000  175380.0       False        False         0   \n",
            "596 2024-04-24  179800  175600.0        True        False         1   \n",
            "597 2024-04-25  170600  173260.0       False         True         0   \n",
            "598 2024-04-26  177800  174160.0        True        False         1   \n",
            "599 2024-04-29  175900  175020.0       False        False         1   \n",
            "\n",
            "     Cumulative_Strategy_Returns  \n",
            "519                          NaN  \n",
            "520                     0.000000  \n",
            "521                     0.000000  \n",
            "522                     0.000000  \n",
            "523                     0.000000  \n",
            "..                           ...  \n",
            "595                     0.945670  \n",
            "596                     1.045798  \n",
            "597                     1.045798  \n",
            "598                     1.132139  \n",
            "599                     1.109354  \n",
            "\n",
            "[81 rows x 7 columns]\n"
          ]
        }
      ]
    }
  ]
}