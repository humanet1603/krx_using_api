{
  "nbformat": 4,
  "nbformat_minor": 0,
  "metadata": {
    "colab": {
      "private_outputs": true,
      "provenance": [],
      "authorship_tag": "ABX9TyOneLdREniClEk0FVXo5F3u",
      "include_colab_link": true
    },
    "kernelspec": {
      "name": "python3",
      "display_name": "Python 3"
    },
    "language_info": {
      "name": "python"
    }
  },
  "cells": [
    {
      "cell_type": "markdown",
      "metadata": {
        "id": "view-in-github",
        "colab_type": "text"
      },
      "source": [
        "<a href=\"https://colab.research.google.com/github/humanet1603/krx_using_api/blob/main/Pykrx.ipynb\" target=\"_parent\"><img src=\"https://colab.research.google.com/assets/colab-badge.svg\" alt=\"Open In Colab\"/></a>"
      ]
    },
    {
      "cell_type": "code",
      "source": [
        "!pip install pykrx pandas"
      ],
      "metadata": {
        "collapsed": true,
        "id": "qDHij-8bNASp"
      },
      "execution_count": null,
      "outputs": []
    },
    {
      "cell_type": "code",
      "source": [
        "tickers = stock.get_market_ticker_list(\"20240602\", market=\"ALL\")\n",
        "print(tickers)"
      ],
      "metadata": {
        "id": "sT6W0OBxTGsx"
      },
      "execution_count": null,
      "outputs": []
    },
    {
      "cell_type": "code",
      "source": [
        "for ticker in stock.get_market_ticker_list():\n",
        "        종목 = stock.get_market_ticker_name(ticker)\n",
        "        print(종목)"
      ],
      "metadata": {
        "collapsed": true,
        "id": "SEihRNDYUE0d"
      },
      "execution_count": null,
      "outputs": []
    },
    {
      "cell_type": "code",
      "source": [
        "df = stock.get_market_ohlcv(\"20220720\", \"20220810\", \"kospi\")\n",
        "print(df.head(3))"
      ],
      "metadata": {
        "id": "EC93ct9vUjrF"
      },
      "execution_count": null,
      "outputs": []
    },
    {
      "cell_type": "code",
      "source": [
        "!pip install pandas openpyxl pykrx\n"
      ],
      "metadata": {
        "collapsed": true,
        "id": "UEy_iDisWRlc"
      },
      "execution_count": null,
      "outputs": []
    },
    {
      "cell_type": "code",
      "source": [
        "from pykrx import stock\n",
        "import pandas as pd\n",
        "\n",
        "# 모든 시장의 티커 및 이름 가져오기\n",
        "tickers = stock.get_market_ticker_list(market=\"ALL\")\n",
        "\n",
        "# 데이터 저장을 위한 리스트 초기화\n",
        "data = []\n",
        "\n",
        "# 모든 티커와 이름 가져오기\n",
        "for ticker in tickers:\n",
        "    name = stock.get_market_ticker_name(ticker)\n",
        "    data.append([ticker, name])\n",
        "\n",
        "# 데이터프레임으로 변환\n",
        "df = pd.DataFrame(data, columns=['Ticker', 'Name'])\n",
        "\n",
        "# 엑셀 파일로 저장\n",
        "df.to_excel('all_market_tickers.xlsx', index=False)\n",
        "\n",
        "print(\"엑셀 파일로 저장이 완료되었습니다.\")\n"
      ],
      "metadata": {
        "id": "PrzBmS5EWPPi"
      },
      "execution_count": null,
      "outputs": []
    },
    {
      "cell_type": "code",
      "source": [
        "from pykrx import stock\n",
        "import pandas as pd\n",
        "\n",
        "# 모든 시장의 티커 및 이름 가져오기\n",
        "tickers = stock.get_market_ticker_list(market=\"ALL\")\n",
        "\n",
        "# 데이터 저장을 위한 리스트 초기화\n",
        "data = []\n",
        "\n",
        "# 모든 티커와 이름 가져오기\n",
        "for ticker in tickers:\n",
        "    name = stock.get_market_ticker_name(ticker)\n",
        "    # ETF를 제외한 종목만 리스트에 추가\n",
        "    if not name.endswith(\"ETF\"):\n",
        "        data.append([ticker, name])\n",
        "\n",
        "# 데이터프레임으로 변환\n",
        "df = pd.DataFrame(data, columns=['Ticker', 'Name'])\n",
        "\n",
        "# 엑셀 파일로 저장\n",
        "df.to_excel('all_market_tickers_excluding_etf.xlsx', index=False)\n",
        "\n",
        "print(\"엑셀 파일로 저장이 완료되었습니다.\")\n"
      ],
      "metadata": {
        "id": "opI9opWuXoa_"
      },
      "execution_count": null,
      "outputs": []
    },
    {
      "cell_type": "code",
      "source": [
        "from pykrx import stock\n",
        "import pandas as pd\n",
        "\n",
        "# KOSPI와 KOSDAQ 티커 및 이름 가져오기\n",
        "tickers_kospi = stock.get_market_ticker_list(market=\"KOSPI\")\n",
        "tickers_kosdaq = stock.get_market_ticker_list(market=\"KOSDAQ\")\n",
        "\n",
        "# 데이터 저장을 위한 리스트 초기화\n",
        "data = []\n",
        "\n",
        "# KOSPI 티커와 이름 가져오기\n",
        "for ticker in tickers_kospi:\n",
        "    name = stock.get_market_ticker_name(ticker)\n",
        "\n",
        "\n",
        "# KOSDAQ 티커와 이름 가져오기\n",
        "for ticker in tickers_kosdaq:\n",
        "    name = stock.get_market_ticker_name(ticker)\n",
        "    if not name.endswith(\"스펙\"):\n",
        "        data.append([ticker, name, \"KOSDAQ\"])\n",
        "\n",
        "# 데이터프레임으로 변환\n",
        "df = pd.DataFrame(data, columns=['Ticker', 'Name', 'Market'])\n",
        "\n",
        "# 엑셀 파일로 저장\n",
        "df.to_excel('kospi_kosdaq_tickers_excluding_etf.xlsx', index=False)\n",
        "\n",
        "print(\"엑셀 파일로 저장이 완료되었습니다.\")\n"
      ],
      "metadata": {
        "id": "Uke5ObnbZJr0"
      },
      "execution_count": null,
      "outputs": []
    },
    {
      "cell_type": "code",
      "source": [
        "from pykrx import stock\n",
        "import pandas as pd\n",
        "\n",
        "# KOSPI와 KOSDAQ 티커 및 이름 가져오기\n",
        "tickers_kospi = stock.get_market_ticker_list(market=\"KOSPI\")\n",
        "tickers_kosdaq = stock.get_market_ticker_list(market=\"KOSDAQ\")\n",
        "\n",
        "# 데이터 저장을 위한 리스트 초기화\n",
        "data = []\n",
        "\n",
        "# KOSPI 티커와 이름 가져오기\n",
        "for ticker in tickers_kospi:\n",
        "    name = stock.get_market_ticker_name(ticker)\n",
        "\n",
        "# KOSDAQ 티커와 이름 가져오기\n",
        "for ticker in tickers_kosdaq:\n",
        "    name = stock.get_market_ticker_name(ticker)\n",
        "    if \"스팩\" not in name:\n",
        "        data.append([ticker, name, \"KOSDAQ\"])\n",
        "\n",
        "# 데이터프레임으로 변환\n",
        "df = pd.DataFrame(data, columns=['Ticker', 'Name', 'Market'])\n",
        "\n",
        "# 엑셀 파일로 저장\n",
        "df.to_excel('kospi_kosdaq_tickers_excluding_spec.xlsx', index=False)\n",
        "\n",
        "print(\"엑셀 파일로 저장이 완료되었습니다.\")\n"
      ],
      "metadata": {
        "id": "3fAyRDMUbUhA"
      },
      "execution_count": null,
      "outputs": []
    },
    {
      "cell_type": "code",
      "source": [
        "from pykrx import stock\n",
        "import pandas as pd\n",
        "\n",
        "# KOSPI와 KOSDAQ 티커 및 이름 가져오기\n",
        "tickers_kospi = stock.get_market_ticker_list(market=\"KOSPI\")\n",
        "tickers_kosdaq = stock.get_market_ticker_list(market=\"KOSDAQ\")\n",
        "\n",
        "# 데이터 저장을 위한 리스트 초기화\n",
        "data = []\n",
        "\n",
        "# KOSPI 티커와 이름 가져오기\n",
        "for ticker in tickers_kospi:\n",
        "    name = stock.get_market_ticker_name(ticker)\n",
        "\n",
        "\n",
        "# KOSDAQ 티커와 이름 가져오기\n",
        "for ticker in tickers_kosdaq:\n",
        "    name = stock.get_market_ticker_name(ticker)\n",
        "    if \"스팩\" not in name:\n",
        "        data.append([ticker, name, \"KOSDAQ\"])\n",
        "\n",
        "# 데이터프레임으로 변환\n",
        "df = pd.DataFrame(data, columns=['Ticker', 'Name', 'Market'])\n",
        "\n",
        "# 엑셀 파일로 저장\n",
        "df.to_excel('kospi_kosdaq_tickers_excluding_spec.xlsx', index=False)\n",
        "\n",
        "print(\"엑셀 파일로 저장이 완료되었습니다.\")\n"
      ],
      "metadata": {
        "id": "hgju2tc_c4pE"
      },
      "execution_count": null,
      "outputs": []
    },
    {
      "cell_type": "code",
      "source": [
        "from pykrx import stock\n",
        "import pandas as pd\n",
        "from datetime import datetime\n",
        "\n",
        "# Load the existing Excel file\n",
        "file_path = 'kospi_kosdaq_tickers_excluding_spec.xlsx'\n",
        "df = pd.read_excel(file_path)\n",
        "\n",
        "# 현재 날짜 설정\n",
        "today = datetime.today().strftime('%Y%m%d')\n",
        "\n",
        "# 새로운 컬럼 추가를 위한 데이터 저장 리스트 초기화\n",
        "market_caps = []\n",
        "fundamentals = []\n",
        "\n",
        "# 각 티커에 대한 시가총액 및 재무 정보 가져오기\n",
        "for index, row in df.iterrows():\n",
        "    ticker = row['Ticker']\n",
        "    market_cap_info = stock.get_market_cap_by_ticker(today)\n",
        "    fundamental_info = stock.get_market_fundamental_by_date(today, today, ticker)\n",
        "\n",
        "    # 시가총액 정보 추가\n",
        "    if ticker in market_cap_info.index:\n",
        "        market_cap = market_cap_info.loc[ticker, '시가총액']\n",
        "    else:\n",
        "        market_cap = None\n",
        "    market_caps.append(market_cap)\n",
        "\n",
        "    # 재무 정보 추가\n",
        "    if not fundamental_info.empty:\n",
        "        fundamental_data = fundamental_info.iloc[0]\n",
        "        fundamentals.append({\n",
        "            'PER': fundamental_data.get('PER', None),\n",
        "            'PBR': fundamental_data.get('PBR', None),\n",
        "            'DIV': fundamental_data.get('DIV', None),\n",
        "            'EPS': fundamental_data.get('EPS', None)\n",
        "        })\n",
        "    else:\n",
        "        fundamentals.append({\n",
        "            'PER': None,\n",
        "            'PBR': None,\n",
        "            'DIV': None,\n",
        "            'EPS': None\n",
        "        })\n",
        "\n",
        "# 새로운 컬럼 추가\n",
        "df['Market Cap'] = market_caps\n",
        "df['PER'] = [item['PER'] for item in fundamentals]\n",
        "df['PBR'] = [item['PBR'] for item in fundamentals]\n",
        "df['DIV'] = [item['DIV'] for item in fundamentals]\n",
        "df['EPS'] = [item['EPS'] for item in fundamentals]\n",
        "\n",
        "# 엑셀 파일로 저장\n",
        "new_file_path = 'market_basic_info.xlsx'\n",
        "df.to_excel(new_file_path, index=False)\n",
        "\n",
        "print(\"엑셀 파일로 저장이 완료되었습니다.\")\n"
      ],
      "metadata": {
        "id": "RSGGJemhiSUN"
      },
      "execution_count": null,
      "outputs": []
    }
  ]
}