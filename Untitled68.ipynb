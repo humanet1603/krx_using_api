{
  "nbformat": 4,
  "nbformat_minor": 0,
  "metadata": {
    "colab": {
      "private_outputs": true,
      "provenance": [],
      "mount_file_id": "1C8q92lFjpA3VZBOg0llASXSLrxngta0F",
      "authorship_tag": "ABX9TyOqpGoQFb2J0h9I2O4frMDd",
      "include_colab_link": true
    },
    "kernelspec": {
      "name": "python3",
      "display_name": "Python 3"
    },
    "language_info": {
      "name": "python"
    }
  },
  "cells": [
    {
      "cell_type": "markdown",
      "metadata": {
        "id": "view-in-github",
        "colab_type": "text"
      },
      "source": [
        "<a href=\"https://colab.research.google.com/github/humanet1603/krx_using_api/blob/main/Untitled68.ipynb\" target=\"_parent\"><img src=\"https://colab.research.google.com/assets/colab-badge.svg\" alt=\"Open In Colab\"/></a>"
      ]
    },
    {
      "cell_type": "code",
      "execution_count": null,
      "metadata": {
        "id": "fZGnRf0v2AAA"
      },
      "outputs": [],
      "source": []
    },
    {
      "cell_type": "code",
      "source": [
        "from google.colab import drive\n",
        "drive.mount('/content/drive')"
      ],
      "metadata": {
        "id": "-CFzWc2f2KkP"
      },
      "execution_count": null,
      "outputs": []
    },
    {
      "cell_type": "code",
      "source": [
        "!pip install PyMuPDF requests beautifulsoup4\n"
      ],
      "metadata": {
        "id": "91Q6lDWe25VD"
      },
      "execution_count": null,
      "outputs": []
    },
    {
      "cell_type": "code",
      "source": [
        "import fitz  # PyMuPDF\n",
        "import requests\n",
        "from bs4 import BeautifulSoup\n",
        "\n",
        "# 1. PDF 문서 열기\n",
        "pdf_path = \"example.pdf\"\n",
        "doc = fitz.open(pdf_path)\n",
        "\n",
        "# 2. 웹 콘텐츠 가져오기\n",
        "url = \"https://example.com\"\n",
        "response = requests.get(url)\n",
        "soup = BeautifulSoup(response.content, 'html.parser')\n",
        "\n",
        "# 웹 콘텐츠에서 텍스트 추출 (예: 특정 클래스의 모든 텍스트)\n",
        "web_content = soup.find_all(class_=\"target-class\")\n",
        "web_text = \"\\n\".join([content.get_text() for content in web_content])\n",
        "\n",
        "# 3. PDF 문서의 마지막 페이지에 텍스트 추가\n",
        "last_page = doc[-1]\n",
        "text_rect = fitz.Rect(72, 72, 540, 720)  # 페이지 내 위치 지정 (여백 포함)\n",
        "last_page.insert_textbox(text_rect, web_text)\n",
        "\n",
        "# 4. PDF 저장\n",
        "output_pdf_path = \"output.pdf\"\n",
        "doc.save(output_pdf_path)\n",
        "doc.close()\n"
      ],
      "metadata": {
        "id": "G5lwx9J63Oac"
      },
      "execution_count": null,
      "outputs": []
    }
  ]
}