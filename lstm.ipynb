{
  "nbformat": 4,
  "nbformat_minor": 0,
  "metadata": {
    "colab": {
      "private_outputs": true,
      "provenance": [],
      "mount_file_id": "1J4bwl03NH5fri0TeZsXAm_tvgkb8QsDe",
      "authorship_tag": "ABX9TyMYPY7lLPtt10xAdgLZonXB",
      "include_colab_link": true
    },
    "kernelspec": {
      "name": "python3",
      "display_name": "Python 3"
    },
    "language_info": {
      "name": "python"
    }
  },
  "cells": [
    {
      "cell_type": "markdown",
      "metadata": {
        "id": "view-in-github",
        "colab_type": "text"
      },
      "source": [
        "<a href=\"https://colab.research.google.com/github/humanet1603/krx_using_api/blob/main/lstm.ipynb\" target=\"_parent\"><img src=\"https://colab.research.google.com/assets/colab-badge.svg\" alt=\"Open In Colab\"/></a>"
      ]
    },
    {
      "cell_type": "markdown",
      "source": [
        "## 데이터를 dataframe으로 불러들이고 자료구조를 본다.\n",
        "이 때 pandas 라이브러리를 사용한다."
      ],
      "metadata": {
        "id": "SRNptEcvITbD"
      }
    },
    {
      "cell_type": "code",
      "execution_count": null,
      "metadata": {
        "id": "1atbQ_E5HmHh"
      },
      "outputs": [],
      "source": [
        "import pandas as pd\n",
        "\n",
        "# Load the data from the uploaded CSV file\n",
        "file_path = '/content/NVIDIA_minute.csv'\n",
        "nvidia_data = pd.read_csv(file_path)\n",
        "\n",
        "# Display the first few rows of the dataframe to understand its structure\n",
        "nvidia_data.head()\n"
      ]
    },
    {
      "cell_type": "markdown",
      "source": [
        " nvidia_data라는 데이터프레임이 만들어졌다."
      ],
      "metadata": {
        "id": "J0LL1_q9JRQB"
      }
    },
    {
      "cell_type": "code",
      "source": [
        "# Combining date and time into a single datetime column and converting it to datetime type\n",
        "nvidia_data['Datetime'] = pd.to_datetime(nvidia_data['Date'] + ' ' + nvidia_data['Time'])\n",
        "\n",
        "# Selecting relevant columns and sorting by datetime\n",
        "nvidia_data = nvidia_data[['Datetime', 'Open', 'High', 'Low', 'Close', 'upvolume', 'downvolume']]\n",
        "nvidia_data.sort_values('Datetime', inplace=True)\n",
        "\n",
        "# Handling missing values by filling them with zeros (could consider other imputation techniques depending on the analysis)\n",
        "nvidia_data.fillna(0, inplace=True)\n",
        "\n",
        "# Display the processed data to verify changes\n",
        "nvidia_data.head()\n"
      ],
      "metadata": {
        "id": "4exQUwPuJpLj"
      },
      "execution_count": null,
      "outputs": []
    },
    {
      "cell_type": "markdown",
      "source": [
        "## 시퀀스 데이터 만들기"
      ],
      "metadata": {
        "id": "nqlkqCbrM6jv"
      }
    },
    {
      "source": [
        "import numpy as np\n",
        "\n",
        "# Initialize the MinMaxScaler\n",
        "!pip install scikit-learn\n",
        "from sklearn.preprocessing import MinMaxScaler\n",
        "scaler = MinMaxScaler()\n",
        "\n",
        "# Selecting numerical features for scaling\n",
        "features = nvidia_data[['Open', 'High', 'Low', 'Close', 'upvolume', 'downvolume']]\n",
        "scaled_features = scaler.fit_transform(features)\n",
        "\n",
        "# Function to create sequences for the LSTM model\n",
        "def create_sequences(data, sequence_length=60):\n",
        "    X, y = [], []\n",
        "    for i in range(len(data) - sequence_length):\n",
        "        X.append(data[i:i + sequence_length])\n",
        "        y.append(data[i + sequence_length, 3])  # Index 3 is the 'Close' price\n",
        "    return np.array(X), np.array(y)\n",
        "\n",
        "# Creating sequences with a sequence length of 60 minutes\n",
        "X, y = create_sequences(scaled_features)\n",
        "\n",
        "# Display shapes of the arrays to verify\n",
        "X.shape, y.shape"
      ],
      "cell_type": "code",
      "metadata": {
        "id": "g7XnY1HXMu1R"
      },
      "execution_count": null,
      "outputs": []
    },
    {
      "cell_type": "code",
      "source": [
        "# Initialize the MinMaxScaler\n",
        "scaler = MinMaxScaler()\n",
        "\n",
        "# Selecting numerical features for scaling\n",
        "features = nvidia_data[['Open', 'High', 'Low', 'Close', 'upvolume', 'downvolume']]\n",
        "scaled_features = scaler.fit_transform(features)\n",
        "\n",
        "# Function to create sequences for the LSTM model\n",
        "def create_sequences(data, sequence_length=60):\n",
        "    X, y = [], []\n",
        "    for i in range(len(data) - sequence_length):\n",
        "        X.append(data[i:i + sequence_length])\n",
        "        y.append(data[i + sequence_length, 3])  # Index 3 is the 'Close' price\n",
        "    return np.array(X), np.array(y)\n",
        "\n",
        "# Creating sequences with a sequence length of 60 minutes\n",
        "X, y = create_sequences(scaled_features)\n",
        "\n",
        "# Display shapes of the arrays to verify\n",
        "X.shape, y.shape\n"
      ],
      "metadata": {
        "id": "RTkHMfrXNLMR"
      },
      "execution_count": null,
      "outputs": []
    },
    {
      "cell_type": "code",
      "source": [
        "!pip install torch torchvision\n",
        "import torch\n",
        "import torch.nn as nn\n",
        "from torch.utils.data import TensorDataset, DataLoader\n",
        "\n",
        "# Convert data to PyTorch tensors\n",
        "X_tensor = torch.tensor(X, dtype=torch.float32)\n",
        "y_tensor = torch.tensor(y, dtype=torch.float32).view(-1, 1)\n",
        "\n",
        "# ... Rest of the code remains unchanged ...\n",
        "\n",
        "# Creating datasets and dataloaders for training\n",
        "dataset = TensorDataset(X_tensor, y_tensor)\n",
        "train_loader = DataLoader(dataset, batch_size=64, shuffle=True)\n",
        "\n",
        "# Defining the LSTM model using PyTorch\n",
        "class LSTMModel(nn.Module):\n",
        "    def __init__(self):\n",
        "        super(LSTMModel, self).__init__()\n",
        "        self.lstm1 = nn.LSTM(input_size=6, hidden_size=50, num_layers=1, batch_first=True)\n",
        "        self.dropout1 = nn.Dropout(0.2)\n",
        "        self.lstm2 = nn.LSTM(50, 50, batch_first=True)\n",
        "        self.dropout2 = nn.Dropout(0.2)\n",
        "        self.dense = nn.Linear(50, 1)\n",
        "\n",
        "    def forward(self, x):\n",
        "        x, _ = self.lstm1(x)\n",
        "        x = self.dropout1(x)\n",
        "        x, _ = self.lstm2(x)\n",
        "        x = self.dropout2(x)\n",
        "        x = x[:, -1, :]  # Take the output of the last sequence\n",
        "        return self.dense(x)\n",
        "\n",
        "# Initialize the model, loss function, and optimizer\n",
        "model = LSTMModel()\n",
        "criterion = nn.MSELoss()\n",
        "optimizer = torch.optim.Adam(model.parameters(), lr=0.001)\n",
        "\n",
        "# Training the model\n",
        "num_epochs = 50\n",
        "for epoch in range(num_epochs):\n",
        "    for inputs, targets in train_loader:\n",
        "        optimizer.zero_grad()\n",
        "        outputs = model(inputs)\n",
        "        loss = criterion(outputs, targets)\n",
        "        loss.backward()\n",
        "        optimizer.step()\n",
        "    print(f'Epoch {epoch+1}/{num_epochs}, Loss: {loss.item():.4f}')\n",
        "\n",
        "# The model is now trained.\n",
        "\"Training complete!\"\n"
      ],
      "metadata": {
        "id": "7Q0Y14tJNfeF"
      },
      "execution_count": null,
      "outputs": []
    }
  ]
}