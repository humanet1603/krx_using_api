{
  "nbformat": 4,
  "nbformat_minor": 0,
  "metadata": {
    "colab": {
      "private_outputs": true,
      "provenance": [],
      "authorship_tag": "ABX9TyPcSINT5+7z82qvzUMJz8OX",
      "include_colab_link": true
    },
    "kernelspec": {
      "name": "python3",
      "display_name": "Python 3"
    },
    "language_info": {
      "name": "python"
    }
  },
  "cells": [
    {
      "cell_type": "markdown",
      "metadata": {
        "id": "view-in-github",
        "colab_type": "text"
      },
      "source": [
        "<a href=\"https://colab.research.google.com/github/humanet1603/krx_using_api/blob/main/PdfDownloader.ipynb\" target=\"_parent\"><img src=\"https://colab.research.google.com/assets/colab-badge.svg\" alt=\"Open In Colab\"/></a>"
      ]
    },
    {
      "cell_type": "code",
      "execution_count": null,
      "metadata": {
        "id": "-hp_UonZ0ECp"
      },
      "outputs": [],
      "source": [
        "import requests\n",
        "from bs4 import BeautifulSoup\n",
        "import os\n",
        "\n",
        "# URL of the website containing the PDF links\n",
        "url = \"https://finance.naver.com/research/market_info_list.naver\"\n",
        "\n",
        "def download_pdf_files(url):\n",
        "    # Create a session object to maintain persistent connections\n",
        "    session = requests.Session()\n",
        "\n",
        "    # Get the webpage content\n",
        "    response = session.get(url)\n",
        "    if response.status_code != 200:\n",
        "        print(\"Failed to retrieve the website\")\n",
        "        return\n",
        "\n",
        "    # Parse the HTML content\n",
        "    soup = BeautifulSoup(response.content, 'html.parser')\n",
        "\n",
        "    # Find all links ending with .pdf\n",
        "    pdf_links = [a['href'] for a in soup.find_all('a', href=True) if a['href'].endswith('.pdf')]\n",
        "\n",
        "    # Create a directory to store downloaded files\n",
        "    os.makedirs(\"pdf_downloads\", exist_ok=True)\n",
        "\n",
        "    # Download each PDF file found\n",
        "    for link in pdf_links:\n",
        "        # Handle absolute and relative URLs\n",
        "        if not link.startswith('http'):\n",
        "            link = f\"https://finance.naver.com{link}\"\n",
        "\n",
        "        # Get the PDF content\n",
        "        pdf_response = session.get(link)\n",
        "        if pdf_response.status_code == 200:\n",
        "            # Determine a filename\n",
        "            filename = link.split('/')[-1]\n",
        "            file_path = os.path.join(\"pdf_downloads\", filename)\n",
        "\n",
        "            # Write the PDF content to a file\n",
        "            with open(file_path, 'wb') as f:\n",
        "                f.write(pdf_response.content)\n",
        "            print(f\"Downloaded {filename}\")\n",
        "        else:\n",
        "            print(f\"Failed to download {link}\")\n",
        "\n",
        "# Uncomment to run the function\n",
        "# download_pdf_files(url)\n",
        "\n"
      ]
    },
    {
      "cell_type": "code",
      "source": [
        "# Fetch the webpage content to examine the HTML structure for debugging purposes\n",
        "def fetch_webpage(url):\n",
        "    response = requests.get(url)\n",
        "    if response.status_code == 200:\n",
        "        return response.text\n",
        "    else:\n",
        "        return \"Failed to retrieve the page with status code: \" + str(response.status_code)\n",
        "\n",
        "# Get webpage HTML content to analyze\n",
        "webpage_html = fetch_webpage(url)\n",
        "webpage_html[:2000]  # Displaying the first 2000 characters of the HTML content for inspection\n"
      ],
      "metadata": {
        "id": "dOuIP4Eb2zK_"
      },
      "execution_count": null,
      "outputs": []
    },
    {
      "cell_type": "code",
      "source": [
        "import requests\n",
        "from bs4 import BeautifulSoup\n",
        "import os\n",
        "\n",
        "def download_pdfs(url):\n",
        "    response = requests.get(url)\n",
        "    soup = BeautifulSoup(response.text, 'html.parser')\n",
        "    pdf_links = [a['href'] for a in soup.find_all('a', href=True) if a['href'].endswith('.pdf')]\n",
        "\n",
        "    for link in pdf_links:\n",
        "        # 상대 경로일 경우 절대 경로로 변환\n",
        "        if not link.startswith('http'):\n",
        "            link = url + link\n",
        "\n",
        "        pdf_response = requests.get(link)\n",
        "        filename = link.split('/')[-1]\n",
        "        with open(filename, 'wb') as f:\n",
        "            f.write(pdf_response.content)\n",
        "        print(f'Downloaded {filename}')\n",
        "\n",
        "# URL 업데이트\n",
        "download_pdfs('https://finance.naver.com/research/market_info_list.naver')\n"
      ],
      "metadata": {
        "id": "GS9S-nLv3-rI"
      },
      "execution_count": null,
      "outputs": []
    }
  ]
}