{
  "nbformat": 4,
  "nbformat_minor": 0,
  "metadata": {
    "colab": {
      "provenance": [],
      "mount_file_id": "https://github.com/humanet1603/krx_using_api/blob/main/pytube.ipynb",
      "authorship_tag": "ABX9TyP2AMTdcRQXNExF0zHSKTbL",
      "include_colab_link": true
    },
    "kernelspec": {
      "name": "python3",
      "display_name": "Python 3"
    },
    "language_info": {
      "name": "python"
    }
  },
  "cells": [
    {
      "cell_type": "markdown",
      "metadata": {
        "id": "view-in-github",
        "colab_type": "text"
      },
      "source": [
        "<a href=\"https://colab.research.google.com/github/humanet1603/krx_using_api/blob/main/pytube.ipynb\" target=\"_parent\"><img src=\"https://colab.research.google.com/assets/colab-badge.svg\" alt=\"Open In Colab\"/></a>"
      ]
    },
    {
      "cell_type": "markdown",
      "source": [
        "## 유튜브 다운로드"
      ],
      "metadata": {
        "id": "EgjPhcmMIZjb"
      }
    },
    {
      "cell_type": "code",
      "source": [
        "!pip install -U yt-dlp\n"
      ],
      "metadata": {
        "collapsed": true,
        "id": "DQs-TpIbAv3V",
        "outputId": "47cc7b62-f5bb-424a-9353-d39be19678bb",
        "colab": {
          "base_uri": "https://localhost:8080/"
        }
      },
      "execution_count": 6,
      "outputs": [
        {
          "output_type": "stream",
          "name": "stdout",
          "text": [
            "Collecting yt-dlp\n",
            "  Downloading yt_dlp-2024.11.4-py3-none-any.whl.metadata (172 kB)\n",
            "\u001b[2K     \u001b[90m━━━━━━━━━━━━━━━━━━━━━━━━━━━━━━━━━━━━━━━━\u001b[0m \u001b[32m172.1/172.1 kB\u001b[0m \u001b[31m3.5 MB/s\u001b[0m eta \u001b[36m0:00:00\u001b[0m\n",
            "\u001b[?25hDownloading yt_dlp-2024.11.4-py3-none-any.whl (3.2 MB)\n",
            "\u001b[2K   \u001b[90m━━━━━━━━━━━━━━━━━━━━━━━━━━━━━━━━━━━━━━━━\u001b[0m \u001b[32m3.2/3.2 MB\u001b[0m \u001b[31m42.3 MB/s\u001b[0m eta \u001b[36m0:00:00\u001b[0m\n",
            "\u001b[?25hInstalling collected packages: yt-dlp\n",
            "Successfully installed yt-dlp-2024.11.4\n"
          ]
        }
      ]
    },
    {
      "cell_type": "code",
      "source": [
        "import subprocess\n",
        "\n",
        "# 유튜브 비디오 링크\n",
        "youtube_url = \"https://www.youtube.com/watch?v=qxiur5Y6JAg\"\n",
        "\n",
        "# 다운로드 명령 실행\n",
        "try:\n",
        "    subprocess.run(['yt-dlp', '-f', 'best', '-o', '/content/drive/MyDrive/Pytube/남부군.mp4', youtube_url])\n",
        "    print(\"다운로드 완료!\")\n",
        "except Exception as e:\n",
        "    print(f\"오류 발생: {e}\")\n"
      ],
      "metadata": {
        "id": "b9PE-F02A4KP",
        "outputId": "46680350-1460-4c4b-c385-3fb43d68247b",
        "colab": {
          "base_uri": "https://localhost:8080/"
        }
      },
      "execution_count": 7,
      "outputs": [
        {
          "output_type": "stream",
          "name": "stdout",
          "text": [
            "다운로드 완료!\n"
          ]
        }
      ]
    },
    {
      "cell_type": "code",
      "source": [
        "!pip install ffmpeg-python"
      ],
      "metadata": {
        "id": "Wa09SB4ZD45O",
        "outputId": "d727aa6d-1a3d-4f15-f4d5-f76581683d09",
        "colab": {
          "base_uri": "https://localhost:8080/"
        }
      },
      "execution_count": 9,
      "outputs": [
        {
          "output_type": "stream",
          "name": "stdout",
          "text": [
            "Collecting ffmpeg-python\n",
            "  Downloading ffmpeg_python-0.2.0-py3-none-any.whl.metadata (1.7 kB)\n",
            "Requirement already satisfied: future in /usr/local/lib/python3.10/dist-packages (from ffmpeg-python) (1.0.0)\n",
            "Downloading ffmpeg_python-0.2.0-py3-none-any.whl (25 kB)\n",
            "Installing collected packages: ffmpeg-python\n",
            "Successfully installed ffmpeg-python-0.2.0\n"
          ]
        }
      ]
    },
    {
      "cell_type": "markdown",
      "source": [
        "### mp4-->mp3"
      ],
      "metadata": {
        "id": "fBy2baE5H-Oy"
      }
    },
    {
      "cell_type": "code",
      "source": [
        "import os\n",
        "import ffmpeg\n",
        "\n",
        "# 다운로드된 MP4 파일 경로\n",
        "mp4_path = \"/content/drive/MyDrive/Pytube/남부군.mp4\"\n",
        "\n",
        "# 저장할 MP3 파일 경로\n",
        "mp3_path = \"/content/drive/MyDrive/Pytube/남부군.mp3\"\n",
        "\n",
        "try:\n",
        "    # ffmpeg를 사용하여 MP4를 MP3로 변환\n",
        "    ffmpeg.input(mp4_path).output(mp3_path, format=\"mp3\", audio_bitrate=\"192k\").run()\n",
        "    print(f\"MP3 파일 추출 완료: {mp3_path}\")\n",
        "except Exception as e:\n",
        "    print(f\"오류 발생: {e}\")\n"
      ],
      "metadata": {
        "id": "D9y08bHAEbEi",
        "outputId": "7ccb7d82-8486-405e-dbc8-3bf31d13dbd6",
        "colab": {
          "base_uri": "https://localhost:8080/"
        }
      },
      "execution_count": 10,
      "outputs": [
        {
          "output_type": "stream",
          "name": "stdout",
          "text": [
            "MP3 파일 추출 완료: /content/drive/MyDrive/Pytube/남부군.mp3\n"
          ]
        }
      ]
    },
    {
      "cell_type": "markdown",
      "source": [
        "### 유튜브에서 직접 mp3 추출하기"
      ],
      "metadata": {
        "id": "vzTSUQvjHZpr"
      }
    },
    {
      "cell_type": "code",
      "source": [
        "import subprocess\n",
        "\n",
        "# 유튜브 비디오 URL\n",
        "youtube_url = \"https://www.youtube.com/watch?v=qxiur5Y6JAg\"\n",
        "\n",
        "# 출력 파일 경로 설정\n",
        "output_path = \"/content/drive/MyDrive/Pytube/%(title)s.%(ext)s\"\n",
        "\n",
        "# yt-dlp 명령 실행\n",
        "try:\n",
        "    subprocess.run([\n",
        "        'yt-dlp',\n",
        "        '-f', 'bestaudio',              # 최고 품질 오디오 선택\n",
        "        '--extract-audio',              # 오디오만 추출\n",
        "        '--audio-format', 'mp3',        # MP3 형식으로 변환\n",
        "        '--audio-quality', '192k',      # 오디오 품질 설정\n",
        "        '-o', output_path,              # 저장 경로 및 파일 이름 설정\n",
        "        youtube_url                     # 유튜브 URL\n",
        "    ])\n",
        "    print(\"MP3 파일 다운로드 및 변환 완료!\")\n",
        "except Exception as e:\n",
        "    print(f\"오류 발생: {e}\")\n"
      ],
      "metadata": {
        "id": "I8GQz9OFHRQY",
        "outputId": "acd872ac-f75d-433f-969c-fd06847d1d9d",
        "colab": {
          "base_uri": "https://localhost:8080/"
        }
      },
      "execution_count": 11,
      "outputs": [
        {
          "output_type": "stream",
          "name": "stdout",
          "text": [
            "MP3 파일 다운로드 및 변환 완료!\n"
          ]
        }
      ]
    }
  ]
}