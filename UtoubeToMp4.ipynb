{
  "nbformat": 4,
  "nbformat_minor": 0,
  "metadata": {
    "colab": {
      "provenance": [],
      "authorship_tag": "ABX9TyOPuT3TpmT+Z9wQJUnlrsga",
      "include_colab_link": true
    },
    "kernelspec": {
      "name": "python3",
      "display_name": "Python 3"
    },
    "language_info": {
      "name": "python"
    }
  },
  "cells": [
    {
      "cell_type": "markdown",
      "metadata": {
        "id": "view-in-github",
        "colab_type": "text"
      },
      "source": [
        "<a href=\"https://colab.research.google.com/github/humanet1603/krx_using_api/blob/main/UtoubeToMp4.ipynb\" target=\"_parent\"><img src=\"https://colab.research.google.com/assets/colab-badge.svg\" alt=\"Open In Colab\"/></a>"
      ]
    },
    {
      "cell_type": "code",
      "source": [
        "!pip install yt-dlp"
      ],
      "metadata": {
        "colab": {
          "base_uri": "https://localhost:8080/"
        },
        "id": "D9YUgA8V7lz8",
        "outputId": "7d070e9e-690f-4a21-d02f-6f04e577b3f2"
      },
      "execution_count": 8,
      "outputs": [
        {
          "output_type": "stream",
          "name": "stdout",
          "text": [
            "Collecting yt-dlp\n",
            "  Downloading yt_dlp-2024.11.18-py3-none-any.whl.metadata (172 kB)\n",
            "\u001b[?25l     \u001b[90m━━━━━━━━━━━━━━━━━━━━━━━━━━━━━━━━━━━━━━━━\u001b[0m \u001b[32m0.0/172.1 kB\u001b[0m \u001b[31m?\u001b[0m eta \u001b[36m-:--:--\u001b[0m\r\u001b[2K     \u001b[91m━━━━━━━━━━━━━━━━━━━━━━━━━━━━━━━━━\u001b[0m\u001b[90m╺\u001b[0m\u001b[90m━━━━━━\u001b[0m \u001b[32m143.4/172.1 kB\u001b[0m \u001b[31m4.0 MB/s\u001b[0m eta \u001b[36m0:00:01\u001b[0m\r\u001b[2K     \u001b[90m━━━━━━━━━━━━━━━━━━━━━━━━━━━━━━━━━━━━━━━━\u001b[0m \u001b[32m172.1/172.1 kB\u001b[0m \u001b[31m3.4 MB/s\u001b[0m eta \u001b[36m0:00:00\u001b[0m\n",
            "\u001b[?25hDownloading yt_dlp-2024.11.18-py3-none-any.whl (3.2 MB)\n",
            "\u001b[2K   \u001b[90m━━━━━━━━━━━━━━━━━━━━━━━━━━━━━━━━━━━━━━━━\u001b[0m \u001b[32m3.2/3.2 MB\u001b[0m \u001b[31m45.9 MB/s\u001b[0m eta \u001b[36m0:00:00\u001b[0m\n",
            "\u001b[?25hInstalling collected packages: yt-dlp\n",
            "Successfully installed yt-dlp-2024.11.18\n"
          ]
        }
      ]
    },
    {
      "cell_type": "code",
      "source": [
        "import os\n",
        "import subprocess\n",
        "\n",
        "def download_youtube_video_with_ytdlp(url, output_folder=\"downloads\", resolution=\"best\"):\n",
        "    \"\"\"\n",
        "    Downloads a YouTube video using yt-dlp.\n",
        "\n",
        "    Args:\n",
        "        url (str): The URL of the YouTube video.\n",
        "        output_folder (str): The folder where the video will be saved.\n",
        "        resolution (str): The resolution of the video (e.g., \"best\", \"worst\", \"720p\").\n",
        "    \"\"\"\n",
        "    try:\n",
        "        # Create output folder if it doesn't exist\n",
        "        if not os.path.exists(output_folder):\n",
        "            os.makedirs(output_folder)\n",
        "            print(f\"Created output folder: {output_folder}\")\n",
        "\n",
        "        # Construct the yt-dlp command\n",
        "        output_template = os.path.join(output_folder, \"%(title)s.%(ext)s\")\n",
        "        command = [\n",
        "            \"yt-dlp\",\n",
        "            \"-f\", resolution,\n",
        "            \"-o\", output_template,\n",
        "            url\n",
        "        ]\n",
        "\n",
        "        # Run the command\n",
        "        print(f\"Downloading video from {url} with resolution: {resolution}\")\n",
        "        subprocess.run(command, check=True)\n",
        "        print(f\"Download complete! Video saved to: {output_folder}\")\n",
        "\n",
        "    except subprocess.CalledProcessError as e:\n",
        "        print(f\"An error occurred during download: {e}\")\n",
        "    except Exception as e:\n",
        "        print(f\"An unexpected error occurred: {e}\")\n",
        "\n",
        "\n",
        "if __name__ == \"__main__\":\n",
        "    print(\"=== YouTube Video Downloader with yt-dlp ===\")\n",
        "    video_url = input(\"Enter the YouTube video URL: \").strip()\n",
        "    resolution_choice = input(\"Enter the desired resolution (e.g., 'best', 'worst', '720p'): \").strip().lower()\n",
        "\n",
        "    # Set the output folder\n",
        "    output_folder_name = \"downloads\"\n",
        "\n",
        "    # Start the download\n",
        "    download_youtube_video_with_ytdlp(video_url, output_folder=output_folder_name, resolution=resolution_choice)\n"
      ],
      "metadata": {
        "colab": {
          "base_uri": "https://localhost:8080/"
        },
        "id": "teoM6CSX7NkE",
        "outputId": "d509ead2-4765-45c2-9a6a-f3bf4ccfbb5d"
      },
      "execution_count": 10,
      "outputs": [
        {
          "output_type": "stream",
          "name": "stdout",
          "text": [
            "=== YouTube Video Downloader with yt-dlp ===\n",
            "Enter the YouTube video URL: https://www.youtube.com/watch?v=vE3gY2JGA3Q\n",
            "Enter the desired resolution (e.g., 'best', 'worst', '720p'): best\n",
            "Downloading video from https://www.youtube.com/watch?v=vE3gY2JGA3Q with resolution: best\n",
            "Download complete! Video saved to: downloads\n"
          ]
        }
      ]
    },
    {
      "cell_type": "markdown",
      "source": [
        "### Mp4-->mp3, 화면"
      ],
      "metadata": {
        "id": "j1D_Q4c2VJxu"
      }
    },
    {
      "cell_type": "code",
      "source": [
        "from moviepy.video.io.VideoFileClip import VideoFileClip\n",
        "import os\n",
        "\n",
        "def split_video_and_audio(input_file, output_folder=\"output\"):\n",
        "    \"\"\"\n",
        "    Splits the video and audio from an MP4 file and saves them as separate files.\n",
        "\n",
        "    Args:\n",
        "        input_file (str): The path to the input MP4 file.\n",
        "        output_folder (str): The folder where the video and audio files will be saved.\n",
        "    \"\"\"\n",
        "    try:\n",
        "        # Create output folder if it doesn't exist\n",
        "        if not os.path.exists(output_folder):\n",
        "            os.makedirs(output_folder)\n",
        "            print(f\"Created output folder: {output_folder}\")\n",
        "\n",
        "        # Load the video file\n",
        "        video = VideoFileClip(input_file)\n",
        "\n",
        "        # Extract file name without extension\n",
        "        base_name = os.path.splitext(os.path.basename(input_file))[0]\n",
        "\n",
        "        # Save audio\n",
        "        audio_file = os.path.join(output_folder, f\"{base_name}_audio.mp3\")\n",
        "        video.audio.write_audiofile(audio_file)\n",
        "        print(f\"Audio saved as: {audio_file}\")\n",
        "\n",
        "        # Save video without audio\n",
        "        video_file = os.path.join(output_folder, f\"{base_name}_video.mp4\")\n",
        "        video.without_audio().write_videofile(video_file, codec=\"libx264\", audio_codec=\"aac\")\n",
        "        print(f\"Video without audio saved as: {video_file}\")\n",
        "\n",
        "    except Exception as e:\n",
        "        print(f\"An error occurred: {e}\")\n",
        "    finally:\n",
        "        # Clean up\n",
        "        video.close()\n",
        "\n",
        "\n",
        "if __name__ == \"__main__\":\n",
        "    print(\"=== MP4 Video and Audio Splitter ===\")\n",
        "    input_mp4 = input(\"Enter the path to the MP4 file: \").strip()\n",
        "    output_folder = \"output\"\n",
        "    split_video_and_audio(input_mp4, output_folder=output_folder)\n"
      ],
      "metadata": {
        "colab": {
          "base_uri": "https://localhost:8080/"
        },
        "id": "fsPap71GVTfk",
        "outputId": "67bec8fa-32cf-4da3-a9cd-573f10a67ffc"
      },
      "execution_count": null,
      "outputs": [
        {
          "output_type": "stream",
          "name": "stdout",
          "text": [
            "=== MP4 Video and Audio Splitter ===\n",
            "Enter the path to the MP4 file: /content/downloads/이건용 작곡 25현 가야금과 관현악을 위한 변주곡 '한오백년' 가야금 이지혜 지휘 이재훈 ｜ 국립국악원 창작악단.mp4\n",
            "Created output folder: output\n",
            "MoviePy - Writing audio in output/이건용 작곡 25현 가야금과 관현악을 위한 변주곡 '한오백년' 가야금 이지혜 지휘 이재훈 ｜ 국립국악원 창작악단_audio.mp3\n"
          ]
        },
        {
          "output_type": "stream",
          "name": "stderr",
          "text": []
        },
        {
          "output_type": "stream",
          "name": "stdout",
          "text": [
            "MoviePy - Done.\n",
            "Audio saved as: output/이건용 작곡 25현 가야금과 관현악을 위한 변주곡 '한오백년' 가야금 이지혜 지휘 이재훈 ｜ 국립국악원 창작악단_audio.mp3\n",
            "Moviepy - Building video output/이건용 작곡 25현 가야금과 관현악을 위한 변주곡 '한오백년' 가야금 이지혜 지휘 이재훈 ｜ 국립국악원 창작악단_video.mp4.\n",
            "Moviepy - Writing video output/이건용 작곡 25현 가야금과 관현악을 위한 변주곡 '한오백년' 가야금 이지혜 지휘 이재훈 ｜ 국립국악원 창작악단_video.mp4\n",
            "\n"
          ]
        },
        {
          "output_type": "stream",
          "name": "stderr",
          "text": [
            "t:  17%|█▋        | 4245/24358 [01:15<09:42, 34.50it/s, now=None]"
          ]
        }
      ]
    }
  ]
}