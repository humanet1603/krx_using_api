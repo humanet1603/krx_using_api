{
  "nbformat": 4,
  "nbformat_minor": 0,
  "metadata": {
    "colab": {
      "private_outputs": true,
      "provenance": [],
      "authorship_tag": "ABX9TyMyb0e8GwjY9LjYYwqGIs8k",
      "include_colab_link": true
    },
    "kernelspec": {
      "name": "python3",
      "display_name": "Python 3"
    },
    "language_info": {
      "name": "python"
    }
  },
  "cells": [
    {
      "cell_type": "markdown",
      "metadata": {
        "id": "view-in-github",
        "colab_type": "text"
      },
      "source": [
        "<a href=\"https://colab.research.google.com/github/humanet1603/krx_using_api/blob/main/einfomax.ipynb\" target=\"_parent\"><img src=\"https://colab.research.google.com/assets/colab-badge.svg\" alt=\"Open In Colab\"/></a>"
      ]
    },
    {
      "cell_type": "code",
      "execution_count": null,
      "metadata": {
        "id": "IFhIl6Zo53XS"
      },
      "outputs": [],
      "source": []
    },
    {
      "cell_type": "code",
      "source": [
        "from google.colab import drive\n",
        "drive.mount('/content/drive')"
      ],
      "metadata": {
        "id": "9u7RzjoH6EUr"
      },
      "execution_count": null,
      "outputs": []
    },
    {
      "cell_type": "code",
      "source": [
        "!pip install webdriver-manager\n",
        "!pip install selenium\n",
        "!pip install PyPDF2\n",
        "!pip install PyMuPDF\n",
        "!\n",
        "\n",
        "from selenium import webdriver\n",
        "from selenium.webdriver.chrome.service import Service\n",
        "from selenium.webdriver.chrome.options import Options\n",
        "from webdriver_manager.chrome import ChromeDriverManager\n",
        "\n",
        "# PDF 저장 옵션 설정\n",
        "chrome_options = Options()\n",
        "chrome_options.add_argument('--headless')  # 브라우저 창 없이 실행\n",
        "chrome_options.add_argument('--disable-gpu')\n",
        "chrome_options.add_argument('--print-to-pdf-no-header')\n",
        "chrome_options.add_argument('--print-to-pdf=//content/drive/MyDrive/미국주식/DATA/NVIDIA/einfomax.pdf')  # PDF 저장 경로\n",
        "\n",
        "# ChromeDriver 실행\n",
        "service = Service(ChromeDriverManager().install())\n",
        "driver = webdriver.Chrome(service=service, options=chrome_options)\n",
        "\n",
        "# 웹 페이지 열기\n",
        "driver.get('https://globalmonitor.einfomax.co.kr/infomax_kw_em.html#/')\n",
        "\n",
        "# 페이지 로드를 기다리기\n",
        "driver.implicitly_wait(10)  # 10초 동안 기다림\n",
        "\n",
        "# PDF 생성\n",
        "driver.execute_script('window.print();')\n",
        "\n",
        "# 드라이버 종료\n",
        "driver.quit()\n"
      ],
      "metadata": {
        "id": "iXKLAYY06SP2"
      },
      "execution_count": null,
      "outputs": []
    },
    {
      "cell_type": "code",
      "source": [
        "from google.colab import drive\n",
        "drive.mount('/content/drive')\n",
        "\n",
        "!pip install webdriver-manager\n",
        "!pip install selenium\n",
        "!pip install PyPDF2\n",
        "!pip install PyMuPDF"
      ],
      "metadata": {
        "id": "swopoKEn9QjM"
      },
      "execution_count": null,
      "outputs": []
    },
    {
      "source": [
        "from selenium import webdriver\n",
        "from selenium.webdriver.chrome.service import Service\n",
        "from selenium.webdriver.chrome.options import Options\n",
        "from webdriver_manager.chrome import ChromeDriverManager\n",
        "\n",
        "# PDF 저장 옵션 설정\n",
        "chrome_options = Options()\n",
        "chrome_options.add_argument('--headless')  # 브라우저 창 없이 실행\n",
        "chrome_options.add_argument('--disable-gpu')\n",
        "chrome_options.add_argument('--print-to-pdf-no-header')\n",
        "chrome_options.add_argument('--print-to-pdf=//content/drive/MyDrive/미국주식/DATA/NVIDIA/einfomax.pdf')  # PDF 저장 경로\n",
        "\n",
        "# ChromeDriver 실행\n",
        "service = Service(ChromeDriverManager().install())\n",
        "driver = webdriver.Chrome(service=service, options=chrome_options)\n",
        "# 웹 페이지 열기\n",
        "driver.get('https://globalmonitor.einfo.gov.cn/web/index.html')"
      ],
      "cell_type": "code",
      "metadata": {
        "id": "hdE1iAen9SWh"
      },
      "execution_count": null,
      "outputs": []
    }
  ]
}