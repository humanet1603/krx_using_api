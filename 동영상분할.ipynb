{
  "nbformat": 4,
  "nbformat_minor": 0,
  "metadata": {
    "colab": {
      "private_outputs": true,
      "provenance": [],
      "machine_shape": "hm",
      "gpuType": "A100",
      "mount_file_id": "1Ja8fP6ZnRKDVvb1uUdhiNYHNy38F2OUI",
      "authorship_tag": "ABX9TyMAL3r3HDcFOoacDUlwobXg",
      "include_colab_link": true
    },
    "kernelspec": {
      "name": "python3",
      "display_name": "Python 3"
    },
    "language_info": {
      "name": "python"
    },
    "accelerator": "GPU"
  },
  "cells": [
    {
      "cell_type": "markdown",
      "metadata": {
        "id": "view-in-github",
        "colab_type": "text"
      },
      "source": [
        "<a href=\"https://colab.research.google.com/github/humanet1603/krx_using_api/blob/main/%EB%8F%99%EC%98%81%EC%83%81%EB%B6%84%ED%95%A0.ipynb\" target=\"_parent\"><img src=\"https://colab.research.google.com/assets/colab-badge.svg\" alt=\"Open In Colab\"/></a>"
      ]
    },
    {
      "cell_type": "code",
      "source": [
        "!pip install yt-dlp\n",
        "!pip install moviepy"
      ],
      "metadata": {
        "id": "HvqVXfrRdDzl"
      },
      "execution_count": null,
      "outputs": []
    },
    {
      "cell_type": "code",
      "execution_count": null,
      "metadata": {
        "id": "Vd-za2-9cQaD"
      },
      "outputs": [],
      "source": [
        "from moviepy.video.io.VideoFileClip import VideoFileClip\n",
        "import os\n",
        "import yt_dlp\n",
        "\n",
        "# 유튜브 영상 링크\n",
        "url = \"https://www.youtube.com/watch?v=qroD6PeafgA\"\n",
        "\n",
        "# 다운로드 경로\n",
        "download_path = \"/content/drive/MyDrive/music\"\n",
        "\n",
        "# 시간 구간 (초 단위로 지정)\n",
        "segments = [\n",
        "    {\"name\": \"Prélude\", \"start\": 35, \"end\": 463},\n",
        "    {\"name\": \"Fileuse\", \"start\": 463, \"end\": 605},\n",
        "    {\"name\": \"Sicilienne\", \"start\": 605, \"end\": 836},\n",
        "    {\"name\": \"La_mort_de_Mélisande\", \"start\": 836, \"end\": None},  # 끝까지\n",
        "]\n",
        "\n",
        "# yt-dlp를 사용하여 YouTube 동영상 다운로드\n",
        "print(\"Downloading video...\")\n",
        "ydl_opts = {\n",
        "    'format': 'bestvideo+bestaudio/best',\n",
        "    'outtmpl': f'{download_path}/temp_video.%(ext)s',\n",
        "    'merge_output_format': 'mp4',\n",
        "    'n_threads': 4,  # 다운로드 속도 향상을 위한 다중 스레드 사용\n",
        "    'http_chunk_size': 1024 * 1024,  # 1MB 단위로 청크 분할 다운로드\n",
        "    'retries': 5,  # 다운로드 재시도 횟수 증가\n",
        "    'concurrent_fragment_downloads': 5  # 동시에 여러 프래그먼트를 병렬로 다운로드\n",
        "}\n",
        "with yt_dlp.YoutubeDL(ydl_opts) as ydl:\n",
        "    ydl.download([url])\n",
        "\n",
        "# 다운로드된 파일 경로 설정\n",
        "downloaded_file = f\"{download_path}/temp_video.mp4\"\n",
        "print(f\"Video downloaded: {downloaded_file}\")\n",
        "\n",
        "# 구간별로 나누기\n",
        "for segment in segments:\n",
        "    name = segment[\"name\"]\n",
        "    start = segment[\"start\"]\n",
        "    end = segment[\"end\"]\n",
        "\n",
        "    print(f\"Processing segment: {name} ({start}s to {end if end else 'end'}s)\")\n",
        "    # 원본 비디오 클립 로드\n",
        "    video = VideoFileClip(downloaded_file)\n",
        "\n",
        "    # 구간 추출\n",
        "    if end:\n",
        "        subclip = video.subclip(start, end)\n",
        "    else:\n",
        "        subclip = video.subclip(start)\n",
        "\n",
        "    # 저장\n",
        "    output_file = f\"{download_path}/{name}.mp4\"\n",
        "    subclip.write_videofile(output_file, codec=\"libx264\")\n",
        "    print(f\"{name} saved: {output_file}\")\n",
        "\n",
        "# 임시 파일 삭제\n",
        "os.remove(downloaded_file)\n",
        "print(\"Temporary file deleted.\")\n"
      ]
    }
  ]
}