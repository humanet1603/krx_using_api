{
  "nbformat": 4,
  "nbformat_minor": 0,
  "metadata": {
    "colab": {
      "private_outputs": true,
      "provenance": [],
      "mount_file_id": "1ye8XtvTnZaFK5Tr0zu_0QjjXQxpzbWAK",
      "authorship_tag": "ABX9TyMv+arNf+/8evIhUSWlrP86",
      "include_colab_link": true
    },
    "kernelspec": {
      "name": "python3",
      "display_name": "Python 3"
    },
    "language_info": {
      "name": "python"
    }
  },
  "cells": [
    {
      "cell_type": "markdown",
      "metadata": {
        "id": "view-in-github",
        "colab_type": "text"
      },
      "source": [
        "<a href=\"https://colab.research.google.com/github/humanet1603/krx_using_api/blob/main/Nvdia_Annual1.ipynb\" target=\"_parent\"><img src=\"https://colab.research.google.com/assets/colab-badge.svg\" alt=\"Open In Colab\"/></a>"
      ]
    },
    {
      "cell_type": "code",
      "execution_count": null,
      "metadata": {
        "id": "O5QB7xthNeDT"
      },
      "outputs": [],
      "source": [
        "import matplotlib.pyplot as plt\n",
        "\n",
        "# Data for visualization\n",
        "years = ['2014', '2015', '2016']\n",
        "gpu_revenue = [3.47, 3.84, 4.19]  # in billions\n",
        "tegra_revenue = [0.398, 0.579, 0.559]  # in billions\n",
        "operating_income = [0.496, 0.759, 0.747]  # in billions\n",
        "\n",
        "# Creating the figure and a set of subplots\n",
        "fig, ax1 = plt.subplots(figsize=(10, 6))\n",
        "\n",
        "# Bar plot for GPU and Tegra revenue\n",
        "ax1.bar(years, gpu_revenue, color='b', label='GPU Revenue (Billions $)', width=0.4, align='center')\n",
        "ax1.bar(years, tegra_revenue, bottom=gpu_revenue, color='r', label='Tegra Revenue (Billions $)', width=0.4, align='center')\n",
        "ax1.set_ylabel('Revenue (Billions $)')\n",
        "ax1.set_title('NVIDIA Revenue and Operating Income by Year')\n",
        "ax1.legend(loc='upper left')\n",
        "\n",
        "# Line plot for Operating Income\n",
        "ax2 = ax1.twinx()\n",
        "ax2.plot(years, operating_income, 'g-o', label='Operating Income (Billions $)')\n",
        "ax2.set_ylabel('Operating Income (Billions $)')\n",
        "ax2.legend(loc='upper right')\n",
        "\n",
        "# Show the plot\n",
        "plt.show()\n"
      ]
    },
    {
      "cell_type": "code",
      "source": [
        "!pip install pandas\n",
        "import pandas as pd\n",
        "\n",
        "# Creating a DataFrame for the data\n",
        "data = {\n",
        "    'Year': years,\n",
        "    'GPU Revenue (Billion $)': gpu_revenue,\n",
        "    'Tegra Revenue (Billion $)': tegra_revenue,\n",
        "    'Operating Income (Billion $)': operating_income\n",
        "}\n",
        "\n",
        "df = pd.DataFrame(data)\n",
        "\n",
        "# Displaying the DataFrame as a styled table\n",
        "styled_df = df.style.set_table_styles(\n",
        "    [{\n",
        "        'selector': 'th',\n",
        "        'props': [('background-color', '#4C72B0'), ('color', 'white')]\n",
        "    }, {\n",
        "        'selector': 'td',\n",
        "        'props': [('text-align', 'center')]\n",
        "    }]\n",
        ").set_properties(**{'background-color': '#EAEAF2', 'color': 'black'}).set_index('Year')\n",
        "\n",
        "styled_df\n"
      ],
      "metadata": {
        "id": "6bw8ocr8U-qN"
      },
      "execution_count": null,
      "outputs": []
    },
    {
      "cell_type": "code",
      "source": [],
      "metadata": {
        "id": "JMFyYh7UV-aD"
      },
      "execution_count": null,
      "outputs": []
    },
    {
      "source": [
        "!pip install pandas\n",
        "import pandas as pd\n",
        "\n",
        "# Creating a DataFrame for the data\n",
        "data = {\n",
        "    'Year': years,\n",
        "    'GPU Revenue (Billion $)': gpu_revenue,\n",
        "    'Tegra Revenue (Billion $)': tegra_revenue,\n",
        "    'Operating Income (Billion $)': operating_income\n",
        "}\n",
        "\n",
        "df = pd.DataFrame(data)\n",
        "\n",
        "# Set the 'Year' column as the index\n",
        "df = df.set_index('Year')\n",
        "\n",
        "# Styling the DataFrame\n",
        "styled_df = df.style.set_table_styles(\n",
        "    [{\n",
        "        'selector': 'th',\n",
        "        'props': [('background-color', '#4C72B0'), ('color', 'white')]\n",
        "    }, {\n",
        "        'selector': 'td',\n",
        "        'props': [('text-align', 'center')]\n",
        "    }]\n",
        ").set_properties(**{'background-color': '#EAEAF2', 'color': 'black'})\n",
        "\n",
        "styled_df"
      ],
      "cell_type": "code",
      "metadata": {
        "id": "MZY4B748V-9Z"
      },
      "execution_count": null,
      "outputs": []
    },
    {
      "cell_type": "markdown",
      "source": [
        "\n",
        "# NVIDIA\n",
        "## 2014년-2016년 분야별 실적"
      ],
      "metadata": {
        "id": "ZqLdjBXaXanC"
      }
    },
    {
      "cell_type": "code",
      "source": [
        "!pip install pandas\n",
        "!pip install matplotlib\n",
        "\n",
        "import matplotlib.pyplot as plt\n",
        "import pandas as pd\n",
        "\n",
        "# Data for visualization and table\n",
        "years = ['2014', '2015', '2016']\n",
        "gpu_revenue = [3.47, 3.84, 4.19]  # in billions\n",
        "tegra_revenue = [0.398, 0.579, 0.559]  # in billions\n",
        "operating_income = [0.496, 0.759, 0.747]  # in billions\n",
        "\n",
        "# Creating the figure and a set of subplots for the graph\n",
        "fig, ax1 = plt.subplots(figsize=(10, 6))\n",
        "\n",
        "# Bar plot for GPU and Tegra revenue\n",
        "ax1.bar(years, gpu_revenue, color='b', label='GPU Revenue (Billions $)', width=0.4, align='center')\n",
        "ax1.bar(years, tegra_revenue, bottom=gpu_revenue, color='r', label='Tegra Revenue (Billions $)', width=0.4, align='center')\n",
        "ax1.set_ylabel('Revenue (Billions $)')\n",
        "ax1.set_title('NVIDIA Revenue and Operating Income by Year')\n",
        "ax1.legend(loc='upper left')\n",
        "\n",
        "# Line plot for Operating Income\n",
        "ax2 = ax1.twinx()\n",
        "ax2.plot(years, operating_income, 'g-o', label='Operating Income (Billions $)')\n",
        "ax2.set_ylabel('Operating Income (Billions $)')\n",
        "ax2.legend(loc='upper right')\n",
        "\n",
        "# Display the plot\n",
        "plt.show()\n",
        "\n",
        "# Creating a DataFrame for the data\n",
        "data = {\n",
        "    'Year': years,\n",
        "    'GPU Revenue (Billion $)': gpu_revenue,\n",
        "    'Tegra Revenue (Billion $)': tegra_revenue,\n",
        "    'Operating Income (Billion $)': operating_income\n",
        "}\n",
        "\n",
        "df = pd.DataFrame(data)\n",
        "df = df.set_index('Year')\n",
        "\n",
        "# Styling the DataFrame\n",
        "styled_df = df.style.set_table_styles(\n",
        "    [{\n",
        "        'selector': 'th',\n",
        "        'props': [('background-color', '#4C72B0'), ('color', 'white')]\n",
        "    }, {\n",
        "        'selector': 'td',\n",
        "        'props': [('text-align', 'center')]\n",
        "    }]\n",
        ").set_properties(**{'background-color': '#EAEAF2', 'color': 'black'})\n",
        "\n",
        "# Display the styled DataFrame\n",
        "styled_df\n"
      ],
      "metadata": {
        "id": "VAuPvSwkXXex"
      },
      "execution_count": null,
      "outputs": []
    },
    {
      "cell_type": "code",
      "source": [
        "# Normalizing the 2014 values to 100\n",
        "normalized_gpu_revenue = [x / gpu_revenue[0] * 100 for x in gpu_revenue]\n",
        "normalized_tegra_revenue = [x / tegra_revenue[0] * 100 for x in tegra_revenue]\n",
        "normalized_operating_income = [x / operating_income[0] * 100 for x in operating_income]\n",
        "\n",
        "# Creating a new plot for the normalized data\n",
        "fig, ax = plt.subplots(figsize=(10, 6))\n",
        "ax.plot(years, normalized_gpu_revenue, 'b-o', label='Normalized GPU Revenue')\n",
        "ax.plot(years, normalized_tegra_revenue, 'r-o', label='Normalized Tegra Revenue')\n",
        "ax.plot(years, normalized_operating_income, 'g-o', label='Normalized Operating Income')\n",
        "\n",
        "# Setting up the plot aesthetics\n",
        "ax.set_title('Normalized NVIDIA Revenue and Operating Income (Base Year: 2014)')\n",
        "ax.set_ylabel('Index (Base Year = 100)')\n",
        "ax.set_xlabel('Year')\n",
        "ax.legend(loc='upper left')\n",
        "\n",
        "# Display the plot\n",
        "plt.show()\n"
      ],
      "metadata": {
        "id": "XgnG6Ev4aX4X"
      },
      "execution_count": null,
      "outputs": []
    }
  ]
}