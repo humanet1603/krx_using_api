{
  "nbformat": 4,
  "nbformat_minor": 0,
  "metadata": {
    "colab": {
      "private_outputs": true,
      "provenance": [],
      "mount_file_id": "1-17II7vlI0_k6C5riMQPJ0QJKagrSVYr",
      "authorship_tag": "ABX9TyOvWN+K4mFJj8AiS9G1Ie6L",
      "include_colab_link": true
    },
    "kernelspec": {
      "name": "python3",
      "display_name": "Python 3"
    },
    "language_info": {
      "name": "python"
    }
  },
  "cells": [
    {
      "cell_type": "markdown",
      "metadata": {
        "id": "view-in-github",
        "colab_type": "text"
      },
      "source": [
        "<a href=\"https://colab.research.google.com/github/humanet1603/krx_using_api/blob/main/TGB.ipynb\" target=\"_parent\"><img src=\"https://colab.research.google.com/assets/colab-badge.svg\" alt=\"Open In Colab\"/></a>"
      ]
    },
    {
      "cell_type": "code",
      "execution_count": null,
      "metadata": {
        "id": "D8mD75rZj96v"
      },
      "outputs": [],
      "source": [
        "! pip install yfinance\n",
        "\n",
        "import yfinance as yf\n",
        "import pandas as pd\n",
        "\n",
        "# Get data for TGB stock\n",
        "stock_symbol = 'TGB'  # Symbol for Tshwane Green Bonds\n",
        "start_date = '1992-05-01'  # Start date\n",
        "end_date = '2024-04-22'  # End date\n",
        "\n",
        "# Fetch the OHLCV data for the specified period\n",
        "data = yf.download(stock_symbol, start=start_date, end=end_date)\n",
        "\n",
        "# Save the data to a CSV file\n",
        "output_file = '/content/tgb_ohlcv_data.csv'\n",
        "data.to_csv(output_file)  # Save data to CSV\n",
        "\n",
        "output_file  # Return the file path\n"
      ]
    },
    {
      "cell_type": "code",
      "source": [
        "import yfinance as yf\n",
        "import pandas as pd\n",
        "\n",
        "# Get the data for TGB stock\n",
        "stock_symbol = 'TGB'  # Symbol for Tshwane Green Bonds\n",
        "start_date = '2014-01-02'  # Start date\n",
        "end_date = '2024-04-22'  # End date\n",
        "\n",
        "# Fetch the OHLC data for the specified period\n",
        "data = yf.download(stock_symbol, start=start_date, end=end_date)\n",
        "\n",
        "# Save the data to a CSV file\n",
        "output_file = '/content/tgb_ohlc_data.csv'\n",
        "data.to_csv(output_file)  # Save without index\n",
        "\n",
        "output_file  # Return the file path\n"
      ],
      "metadata": {
        "id": "qmtPr0conC7o"
      },
      "execution_count": null,
      "outputs": []
    },
    {
      "cell_type": "markdown",
      "source": [
        "## 월봉데이터"
      ],
      "metadata": {
        "id": "zWKxXgn2oJu8"
      }
    },
    {
      "cell_type": "code",
      "source": [
        "import pandas as pd\n",
        "import yfinance as yf\n",
        "\n",
        "# Load the daily data for TGB stock\n",
        "stock_symbol = 'TGB'\n",
        "start_date = '2014-01-02'\n",
        "end_date = '2024-04-22'\n",
        "\n",
        "# Fetch daily OHLC data\n",
        "daily_data = yf.download(stock_symbol, start=start_date, end=end_date)\n",
        "\n",
        "# Resample to monthly data\n",
        "# 'M' indicates monthly frequency\n",
        "monthly_data = daily_data.resample('M').agg({\n",
        "    'Open': 'first',   # First open value of the month\n",
        "    'High': 'max',     # Maximum high value of the month\n",
        "    'Low': 'min',      # Minimum low value of the month\n",
        "    'Close': 'last',   # Last close value of the month\n",
        "    'Volume': 'sum'    # Total volume for the month\n",
        "})\n",
        "\n",
        "# Save the monthly data to a CSV file\n",
        "output_file = '/content/tgb_monthly_ohlc.csv'\n",
        "monthly_data.to_csv(output_file)\n",
        "\n",
        "output_file  # Return the file path of the monthly data CSV\n"
      ],
      "metadata": {
        "id": "_av4vMIVoO0o"
      },
      "execution_count": null,
      "outputs": []
    },
    {
      "cell_type": "code",
      "source": [
        "# 먼저 필요한 라이브러리를 설치하세요\n",
        "!pip install mplfinance\n"
      ],
      "metadata": {
        "id": "L9oQCK_8os98"
      },
      "execution_count": null,
      "outputs": []
    },
    {
      "cell_type": "code",
      "source": [
        "import pandas as pd\n",
        "import mplfinance as mpf  # Library for creating candlestick charts\n",
        "\n",
        "# Load the monthly OHLC data from CSV\n",
        "file_path = '/content/tgb_monthly_ohlc.csv'\n",
        "monthly_data = pd.read_csv(file_path)\n",
        "\n",
        "# Ensure the Date column is in datetime format and set as the index\n",
        "monthly_data['Date'] = pd.to_datetime(monthly_data['Date'])\n",
        "monthly_data.set_index('Date', inplace=True)\n",
        "\n",
        "# Create a candlestick chart\n",
        "mpf.plot(\n",
        "    monthly_data,\n",
        "    type='candle',  # Create a candlestick chart\n",
        "    style='yahoo',  # Use the Yahoo Finance style\n",
        "    title='Monthly Candlestick Chart for TGB',\n",
        "    ylabel='Price ($)',\n",
        "    volume=True,  # Include the trading volume\n",
        "    mav=(10, 20),  # Include moving averages (optional)\n",
        "    figsize=(12, 6)  # Set the figure size\n",
        ")\n"
      ],
      "metadata": {
        "id": "ahK_04XZpEJu"
      },
      "execution_count": null,
      "outputs": []
    },
    {
      "cell_type": "code",
      "source": [
        "import pandas as pd\n",
        "\n",
        "# Load the OHLC data from CSV\n",
        "file_path = '/content/tgb_ohlc_data.csv'\n",
        "ohlc_data = pd.read_csv(file_path)\n",
        "\n",
        "# Ensure the Date column is in datetime format and set as the index\n",
        "ohlc_data['Date'] = pd.to_datetime(ohlc_data['Date'])\n",
        "ohlc_data.set_index('Date', inplace=True)\n",
        "\n",
        "# Calculate moving averages\n",
        "ohlc_data['MA5'] = ohlc_data['Close'].rolling(window=5).mean()  # 5일 이동 평균\n",
        "ohlc_data['MA10'] = ohlc_data['Close'].rolling(window=10).mean()  # 10일 이동 평균\n",
        "ohlc_data['MA20'] = ohlc_data['Close'].rolling(window=20).mean()  # 20일 이동 평균\n",
        "\n",
        "# Save the data with moving averages to a new CSV file\n",
        "output_file = '/content/tgb_ohlc_ma.csv'  # New CSV file path\n",
        "ohlc_data.to_csv(output_file)  # Save without index\n",
        "\n",
        "output_file  # Return the new CSV file path\n"
      ],
      "metadata": {
        "id": "VetHhvm9yhLe"
      },
      "execution_count": null,
      "outputs": []
    },
    {
      "cell_type": "markdown",
      "source": [
        "## 그래프"
      ],
      "metadata": {
        "id": "VK4E4HJb1hU2"
      }
    },
    {
      "cell_type": "code",
      "source": [
        "import pandas as pd\n",
        "import matplotlib.pyplot as plt\n",
        "\n",
        "# Load the new CSV file with moving averages\n",
        "file_path = '/content/tgb_ohlc_ma.csv'  # New CSV file path\n",
        "ohlc_data = pd.read_csv(file_path)\n",
        "\n",
        "# Ensure the Date column is in datetime format and set as the index\n",
        "ohlc_data['Date'] = pd.to_datetime(ohlc_data['Date'])\n",
        "ohlc_data.set_index('Date', inplace=True)\n",
        "\n",
        "# Plot Close and moving averages\n",
        "plt.figure(figsize=(12, 6))\n",
        "plt.plot(ohlc_data['Close'], label='Close')  # 종가\n",
        "plt.plot(ohlc_data['MA5'], label='MA5')  # 5일 이동 평균\n",
        "plt.plot(ohlc_data['MA10'], label='MA10')  # 10일 이동 평균\n",
        "plt.plot(ohlc_data['MA20'], label='MA20')  # 20일 이동 평균\n",
        "plt.title('TGB Stock Close Price with Moving Averages')\n",
        "plt.xlabel('Date')  # X축 레이블\n",
        "plt.ylabel('Price ($)')  # Y축 레이블\n",
        "plt.legend()  # 범례\n",
        "plt.show()  # 그래프 표시\n"
      ],
      "metadata": {
        "id": "MocZ6PfG1lAO"
      },
      "execution_count": null,
      "outputs": []
    },
    {
      "cell_type": "code",
      "source": [
        "import pandas as pd\n",
        "import matplotlib.pyplot as plt\n",
        "\n",
        "# Load the CSV file with Close and moving averages\n",
        "file_path = '/content/tgb_ohlc_ma.csv'  # CSV file path\n",
        "ohlc_data = pd.read_csv(file_path)\n",
        "\n",
        "# Ensure the Date column is in datetime format and set as the index\n",
        "ohlc_data['Date'] = pd.to_datetime(ohlc_data['Date'])\n",
        "ohlc_data.set_index('Date', inplace=True)\n",
        "\n",
        "# Select data from January 2, 2024, to April 22, 2024\n",
        "filtered_data = ohlc_data.loc['2024-01-02':'2024-04-22']\n",
        "\n",
        "# Plot Close and moving averages\n",
        "plt.figure(figsize=(12, 6))\n",
        "plt.plot(filtered_data['Close'], label='Close')  # 종가\n",
        "plt.plot(filtered_data['MA5'], label='MA5')  # 5일 이동 평균\n",
        "plt.plot(filtered_data['MA10'], label='MA10')  # 10일 이동 평균\n",
        "plt.plot(filtered_data['MA20'], label='MA20')  # 20일 이동 평균\n",
        "plt.title('TGB Stock Close Price with Moving Averages (Jan 2, 2024 - Apr 22, 2024)')\n",
        "plt.xlabel('Date')  # X축 레이블\n",
        "plt.ylabel('Price ($)')  # Y축 레이블\n",
        "plt.legend()  # 범례\n",
        "plt.show()  # 그래프 표시\n"
      ],
      "metadata": {
        "id": "c5knQQ6r2nqF"
      },
      "execution_count": null,
      "outputs": []
    },
    {
      "cell_type": "code",
      "source": [],
      "metadata": {
        "id": "BHiL00l_6HEt"
      },
      "execution_count": null,
      "outputs": []
    },
    {
      "cell_type": "code",
      "source": [
        "import pandas as pd\n",
        "import matplotlib.pyplot as plt\n",
        "import matplotlib.dates as mdates\n",
        "\n",
        "# Load the CSV file with stock data\n",
        "file_path = '/content/tgb_ohlc_ma.csv'  # New CSV file path\n",
        "ohlc_data = pd.read_csv(file_path)\n",
        "\n",
        "# Ensure the Date column is in datetime format and set as the index\n",
        "ohlc_data['Date'] = pd.to_datetime(ohlc_data['Date'])\n",
        "ohlc_data.set_index('Date', inplace=True)\n",
        "\n",
        "# Filter data for the specified period\n",
        "start_date = '2024-01-02'\n",
        "end_date = '2024-04-22'\n",
        "filtered_data = ohlc_data[(ohlc_data.index >= start_date) & (ohlc_data.index <= end_date)]\n",
        "\n",
        "# Calculate the MACD and signal line\n",
        "short_ema = filtered_data['Close'].ewm(span=12, adjust=False).mean()  # 12-day EMA\n",
        "long_ema = filtered_data['Close'].ewm(span=26, adjust=False).mean()  # 26-day EMA\n",
        "macd = short_ema - long_ema  # MACD line\n",
        "signal = macd.ewm(span=9, adjust=False).mean()  # 9-day signal line\n",
        "\n",
        "# Plot the MACD and signal line\n",
        "plt.figure(figsize=(12, 6))\n",
        "plt.plot(filtered_data.index, macd, label='MACD')  # MACD 선\n",
        "plt.plot(filtered_data.index, signal, label='Signal')  # 신호선\n",
        "plt.axhline(0, color='black', linewidth=0.5, linestyle='--')  # 0선\n",
        "plt.title('MACD and Signal Line (2024-01-02 to 2024-04-22)')\n",
        "plt.xlabel('Date')  # X축 레이블\n",
        "plt.ylabel('MACD')  # Y축 레이블\n",
        "plt.legend()  # 범례\n",
        "plt.show()  # 그래프 표시\n"
      ],
      "metadata": {
        "id": "-9UwPN8X3fUG"
      },
      "execution_count": null,
      "outputs": []
    },
    {
      "cell_type": "code",
      "source": [
        "import pandas as pd\n",
        "\n",
        "# Load the CSV file with stock data\n",
        "file_path = '/content/tgb_ohlc_ma.csv'  # New CSV file path\n",
        "ohlc_data = pd.read_csv(file_path)\n",
        "\n",
        "# Ensure the Date column is in datetime format and set as the index\n",
        "ohlc_data['Date'] = pd.to_datetime(ohlc_data['Date'])\n",
        "ohlc_data.set_index('Date', inplace=True)\n",
        "\n",
        "# Filter data for the specified period\n",
        "start_date = '2024-01-02'\n",
        "end_date = '2024-04-22'\n",
        "filtered_data = ohlc_data[(ohlc_data.index >= start_date) & (ohlc_data.index <= end_date)]\n",
        "\n",
        "# Calculate the MACD and signal line\n",
        "short_ema = filtered_data['Close'].ewm(span=12, adjust=False).mean()  # 12-day EMA\n",
        "long_ema = filtered_data['Close'].ewm(span=26, adjust=False).mean()  # 26-day EMA\n",
        "macd = short_ema - long_ema  # MACD line\n",
        "signal = macd.ewm(span=9, adjust=False).mean()  # 9-day signal line\n",
        "\n",
        "# Find the points where MACD crosses the signal line\n",
        "crosses = macd - signal  # MACD와 신호선 간의 차이\n",
        "crossings = crosses[(crosses.shift(1) * crosses) < 0]  # 상향 또는 하향 돌파 지점 찾기\n",
        "\n",
        "# Determine if the crossing is upward or downward\n",
        "crossings_direction = crossings.apply(lambda x: 'upward' if x > 0 else 'downward')\n",
        "\n",
        "# Get the closing prices at crossing points\n",
        "crossings_prices = filtered_data.loc[crossings.index, 'Close']  # 해당 종가 찾기\n",
        "\n",
        "# Combine the direction with the closing prices\n",
        "crossings_with_prices = pd.DataFrame({\n",
        "    'Date': crossings.index,\n",
        "    'Direction': crossings_direction,\n",
        "    'Closing Price': crossings_prices\n",
        "})\n",
        "\n",
        "crossings_with_prices  # Return the DataFrame with crossing points and closing prices\n"
      ],
      "metadata": {
        "id": "8KhJ85Ee4a-V"
      },
      "execution_count": null,
      "outputs": []
    },
    {
      "cell_type": "code",
      "source": [
        "import pandas as pd\n",
        "\n",
        "# Load the CSV file with stock data\n",
        "file_path = '/content/tgb_ohlc_ma.csv'  # New CSV file path\n",
        "ohlc_data = pd.read_csv(file_path)\n",
        "\n",
        "# Ensure the Date column is in datetime format and set as the index\n",
        "ohlc_data['Date'] = pd.to_datetime(ohlc_data['Date'])\n",
        "ohlc_data.set_index('Date', inplace=True)\n",
        "\n",
        "# Filter data for the specified period\n",
        "start_date = '2024-01-02'\n",
        "end_date = '2024-04-22'\n",
        "filtered_data = ohlc_data[(ohlc_data.index >= start_date) & (ohlc_data.index <= end_date)]\n",
        "\n",
        "# Calculate the difference between MA5 and MA10\n",
        "ma_diff = filtered_data['MA5'] - filtered_data['MA10']\n",
        "\n",
        "# Find the points where MA5 crosses MA10\n",
        "ma_crossings = ma_diff[(ma_diff.shift(1) * ma_diff) < 0]  # 상향 또는 하향 돌파 지점 찾기\n",
        "\n",
        "# Determine if the crossing is upward or downward\n",
        "crossings_direction = ma_crossings.apply(lambda x: 'upward' if x > 0 else 'downward')\n",
        "\n",
        "# Get the closing prices at crossing points\n",
        "crossings_prices = filtered_data.loc[ma_crossings.index, 'Close']  # 해당 종가 찾기\n",
        "\n",
        "# Combine the direction with the closing prices\n",
        "crossings_with_prices = pd.DataFrame({\n",
        "    'Date': ma_crossings.index,\n",
        "    'Direction': crossings_direction,\n",
        "    'Closing Price': crossings_prices\n",
        "})\n",
        "\n",
        "crossings_with_prices  # Return the DataFrame with crossing points and closing prices\n"
      ],
      "metadata": {
        "id": "5LnFPr8s6JDr"
      },
      "execution_count": null,
      "outputs": []
    }
  ]
}