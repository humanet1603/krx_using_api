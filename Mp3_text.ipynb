{
  "nbformat": 4,
  "nbformat_minor": 0,
  "metadata": {
    "colab": {
      "private_outputs": true,
      "provenance": [],
      "authorship_tag": "ABX9TyMWNfKiApP9UkMg3bXSmK+y",
      "include_colab_link": true
    },
    "kernelspec": {
      "name": "python3",
      "display_name": "Python 3"
    },
    "language_info": {
      "name": "python"
    }
  },
  "cells": [
    {
      "cell_type": "markdown",
      "metadata": {
        "id": "view-in-github",
        "colab_type": "text"
      },
      "source": [
        "<a href=\"https://colab.research.google.com/github/humanet1603/krx_using_api/blob/main/Mp3_text.ipynb\" target=\"_parent\"><img src=\"https://colab.research.google.com/assets/colab-badge.svg\" alt=\"Open In Colab\"/></a>"
      ]
    },
    {
      "cell_type": "code",
      "source": [
        "!pip install vosk"
      ],
      "metadata": {
        "id": "R53iLYojZxHd"
      },
      "execution_count": null,
      "outputs": []
    },
    {
      "cell_type": "code",
      "source": [
        "from google.colab import drive\n",
        "drive.mount('/content/drive')"
      ],
      "metadata": {
        "id": "O8zGy0blZ5sK"
      },
      "execution_count": null,
      "outputs": []
    },
    {
      "cell_type": "code",
      "source": [
        "! pip install pydub\n",
        "\n",
        "\n",
        "from vosk import Model, KaldiRecognizer\n",
        "import os\n",
        "from pydub import AudioSegment\n",
        "import json\n",
        "\n",
        "# MP3 파일을 WAV로 변환하는 함수\n",
        "def mp3_to_wav(audio_file_path):\n",
        "    sound = AudioSegment.from_mp3(audio_file_path)\n",
        "    audio_file_path = audio_file_path.replace(\".mp3\", \".wav\")\n",
        "    sound.export(audio_file_path, format=\"wav\")\n",
        "    return audio_file_path\n",
        "\n",
        "# WAV 파일을 텍스트로 변환하는 함수\n",
        "def transcribe_audio(wav_file_path, model_path='vosk-model-small-en-us-0.15'):\n",
        "    model = Model(model_path)\n",
        "    rec = KaldiRecognizer(model, 16000)\n",
        "\n",
        "    with open(wav_file_path, 'rb') as f:\n",
        "        while True:\n",
        "            data = f.read(4000)\n",
        "            if len(data) == 0:\n",
        "                break\n",
        "            if rec.AcceptWaveform(data):\n",
        "                pass\n",
        "\n",
        "    final_result = json.loads(rec.FinalResult())\n",
        "    return final_result['text']\n",
        "\n",
        "# 전체 변환 과정 실행\n",
        "def convert_mp3_to_txt(mp3_file_path, model_path):\n",
        "    wav_file_path = mp3_to_wav(mp3_file_path)\n",
        "    text = transcribe_audio(wav_file_path, model_path)\n",
        "    os.remove(wav_file_path)  # 임시 WAV 파일 삭제\n",
        "    return text\n",
        "\n",
        "# 사용 예시\n",
        "mp3_file_path = '/content/bandicam 2024-05-02 12-33-08-552.mp3'\n",
        "model_path = 'model_path = r\"C:\\\\vosk\\\\vosk-model-small-ko-0.22\"'\n",
        "\n",
        "text = convert_mp3_to_txt(mp3_file_path, model_path)\n",
        "print(text)"
      ],
      "metadata": {
        "id": "E7GI_LxAbl1n"
      },
      "execution_count": null,
      "outputs": []
    },
    {
      "cell_type": "markdown",
      "source": [
        "#구글드라이브에서 제어하는 방법"
      ],
      "metadata": {
        "id": "yu6vWOUiiuK2"
      }
    },
    {
      "cell_type": "markdown",
      "source": [
        "## Google 드라이브 API와 관련 라이브러리 설치:"
      ],
      "metadata": {
        "id": "bPZZA382fRxT"
      }
    },
    {
      "cell_type": "code",
      "source": [
        "!pip install --upgrade google-api-python-client google-auth-httplib2 google-auth-oauthlib\n"
      ],
      "metadata": {
        "id": "uDuQdKgre16d"
      },
      "execution_count": null,
      "outputs": []
    },
    {
      "cell_type": "markdown",
      "source": [
        "## Google 드라이브에서 파일을 다운로드하는 코드:"
      ],
      "metadata": {
        "id": "Am3ZKo2DfXOT"
      }
    },
    {
      "cell_type": "code",
      "source": [
        "from googleapiclient.discovery import build\n",
        "from googleapiclient.http import MediaIoBaseDownload\n",
        "from google_auth_oauthlib.flow import InstalledAppFlow\n",
        "import io\n",
        "\n",
        "# 인증 및 Google 드라이브 서비스 생성\n",
        "def create_service():\n",
        "    flow = InstalledAppFlow.from_client_secrets_file(\n",
        "        'client_secrets.json',  # Google Cloud에서 다운로드 받은 OAuth 2.0 클라이언트 ID JSON 파일\n",
        "        scopes=['https://www.googleapis.com/auth/drive']\n",
        "    )\n",
        "    creds = flow.run_local_server(port=0)\n",
        "    service = build('drive', 'v3', credentials=creds)\n",
        "    return service\n",
        "\n",
        "# Google 드라이브에서 파일 다운로드\n",
        "def download_file(service, file_id, file_path):\n",
        "    request = service.files().get_media(fileId=file_id)\n",
        "    fh = io.FileIO(file_path, 'wb')\n",
        "    downloader = MediaIoBaseDownload(fh, request)\n",
        "    done = False\n",
        "    while done is False:\n",
        "        status, done = downloader.next_chunk()\n",
        "        print(\"Download %d%%.\" % int(status.progress() * 100))\n",
        "\n",
        "# 서비스 생성 및 파일 다운로드\n",
        "service = create_service()\n",
        "download_file(service, 'your_google_drive_file_id', 'local_path_to_save_model')\n",
        "\n",
        "# 이제 모델 파일이 로컬에 저장되었으므로, vosk를 사용하여 음성 인식을 수행할 수 있습니다.\n"
      ],
      "metadata": {
        "id": "mYRV3pmefKnU"
      },
      "execution_count": null,
      "outputs": []
    },
    {
      "cell_type": "markdown",
      "source": [],
      "metadata": {
        "id": "2ikefMOfi3lg"
      }
    }
  ]
}