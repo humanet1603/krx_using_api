{
  "nbformat": 4,
  "nbformat_minor": 0,
  "metadata": {
    "colab": {
      "private_outputs": true,
      "provenance": [],
      "mount_file_id": "1GDS4TSGn635Y9eaE8s8QhSppJRtF-Lnb",
      "authorship_tag": "ABX9TyPJLreT2kahDMo5vMiue0lI",
      "include_colab_link": true
    },
    "kernelspec": {
      "name": "python3",
      "display_name": "Python 3"
    },
    "language_info": {
      "name": "python"
    }
  },
  "cells": [
    {
      "cell_type": "markdown",
      "metadata": {
        "id": "view-in-github",
        "colab_type": "text"
      },
      "source": [
        "<a href=\"https://colab.research.google.com/github/humanet1603/krx_using_api/blob/main/python_for_xl.ipynb\" target=\"_parent\"><img src=\"https://colab.research.google.com/assets/colab-badge.svg\" alt=\"Open In Colab\"/></a>"
      ]
    },
    {
      "cell_type": "markdown",
      "source": [
        "파이썬을 사용하여 Excel에서 거래 데이터를 처리하고자 한다면, 스프레드시트 작업에 대한 기능을 제공하는 인기있는 파이썬 라이브러리 몇 가지를 사용할 수 있습니다. 다음은 세 가지 널리 사용되는 라이브러리와 예제 사용법을 설명합니다:\n",
        "\n",
        "1. pandas: pandas는 데이터 조작과 분석을 위한 강력한 라이브러리입니다. DataFrame 객체를 제공하여 표 형식의 데이터를 저장하고 조작할 수 있습니다. pandas를 사용하여 Excel 파일을 읽고 쓰기, 데이터 조작, 계산 등을 수행할 수 있습니다.\n",
        "\n",
        "사용 예제:\n",
        "```python\n",
        "import pandas as pd\n",
        "\n",
        "# Excel 파일에서 데이터 읽기\n",
        "df = pd.read_excel('trading_data.xlsx')\n",
        "\n",
        "# 데이터 조작 수행\n",
        "df['Total'] = df['Quantity'] * df['Price']\n",
        "\n",
        "# 수정된 데이터를 새로운 Excel 파일에 쓰기\n",
        "df.to_excel('modified_trading_data.xlsx', index=False)\n",
        "```\n",
        "\n",
        "2. openpyxl: openpyxl은 Excel 파일 작업을 위해 특별히 설계된 라이브러리입니다. 서식, 수식, 차트 등을 포함하여 Excel 파일을 읽고 쓰고 수정할 수 있습니다.\n",
        "\n",
        "사용 예제:\n",
        "```python\n",
        "from openpyxl import load_workbook\n",
        "\n",
        "# 기존 Excel 파일 불러오기\n",
        "workbook = load_workbook('trading_data.xlsx')\n",
        "\n",
        "# 특정 워크시트 선택\n",
        "worksheet = workbook['Sheet1']\n",
        "\n",
        "# 셀에서 값 읽기\n",
        "value = worksheet['A1'].value\n",
        "\n",
        "# 셀에 값 쓰기\n",
        "worksheet['A2'] = '안녕, 세상!'\n",
        "\n",
        "# 수정된 워크북 저장\n",
        "workbook.save('modified_trading_data.xlsx')\n",
        "```\n",
        "\n",
        "3. xlwings: xlwings는 Excel과 Python 간의 쉬운 통합을 가능하게 해주는 라이브러리입니다. Excel VBA에서 Python 코드를 호출하거나 그 반대로 수행할 수 있습니다. Excel 작업을 자동화하거나 Excel에서 데이터를 추출하고 Python을 사용하여 계산을 수행할 수 있습니다.\n",
        "\n",
        "사용 예제:\n",
        "```python\n",
        "import xlwings as xw\n",
        "\n",
        "# 기존 Excel 파일 열기\n",
        "workbook = xw.Book('trading_data.xlsx')\n",
        "\n",
        "# 특정 워크시트 선택\n",
        "worksheet = workbook.sheets['Sheet1']\n",
        "\n",
        "# 셀에서 값 읽기\n",
        "value = worksheet.range('A1').value\n",
        "\n",
        "# 셀에 값 쓰기\n",
        "worksheet.range('A2').value = '안녕, 세상!'\n",
        "\n",
        "# 수정된 워크북 저장\n",
        "workbook.save('modified_trading_data.xlsx')\n",
        "\n",
        "# 워크북 닫기\n",
        "workbook.close()\n",
        "```\n",
        "\n",
        "이러한 라이브러리는 각각의 웹사이트에서 다양한 문서, 튜토리얼, 예제를 제공하므로, Excel에서 거래 데이터를 처리하는 데 필요한 전체 기능을 탐색하고 심층적인 기능을 이해하는 데 도움이 됩니다.\n",
        "\n",
        "\n"
      ],
      "metadata": {
        "id": "IiGb5IG1PNbm"
      }
    },
    {
      "cell_type": "markdown",
      "source": [],
      "metadata": {
        "id": "KjFM-4o6BJHp"
      }
    },
    {
      "cell_type": "code",
      "source": [],
      "metadata": {
        "id": "XIQW49N8AgzJ"
      },
      "execution_count": null,
      "outputs": []
    },
    {
      "cell_type": "markdown",
      "source": [],
      "metadata": {
        "id": "QPvasfJdASM4"
      }
    },
    {
      "cell_type": "code",
      "source": [],
      "metadata": {
        "id": "w6fnn0KK8aDa"
      },
      "execution_count": null,
      "outputs": []
    },
    {
      "cell_type": "code",
      "source": [
        "!pip install pyautogui"
      ],
      "metadata": {
        "id": "NVxtZPGCRSZ3"
      },
      "execution_count": null,
      "outputs": []
    },
    {
      "cell_type": "code",
      "source": [
        "import pyautogui\n",
        "import time"
      ],
      "metadata": {
        "id": "e4z-JBf9Pu4s"
      },
      "execution_count": null,
      "outputs": []
    },
    {
      "cell_type": "code",
      "source": [],
      "metadata": {
        "id": "89c_97tgNrFI"
      },
      "execution_count": null,
      "outputs": []
    }
  ]
}